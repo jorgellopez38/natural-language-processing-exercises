{
 "cells": [
  {
   "cell_type": "code",
   "execution_count": 1,
   "id": "696efd13",
   "metadata": {},
   "outputs": [],
   "source": [
    "import re\n",
    "import pandas as pd"
   ]
  },
  {
   "cell_type": "markdown",
   "id": "cfcfa609",
   "metadata": {},
   "source": [
    "Write a function named is_vowel. It should accept a string as input and use a regular expression to determine if the passed string is a vowel. While not explicity mentioned in the lesson, you can treat the result of re.search as a boolean value that indicates whether or not the regular expression matches the given string."
   ]
  },
  {
   "cell_type": "code",
   "execution_count": 2,
   "id": "1ab9419d",
   "metadata": {},
   "outputs": [
    {
     "data": {
      "text/plain": [
       "'aeiou'"
      ]
     },
     "execution_count": 2,
     "metadata": {},
     "output_type": "execute_result"
    }
   ],
   "source": [
    "string = 'aeiou'\n",
    "string"
   ]
  },
  {
   "cell_type": "code",
   "execution_count": 3,
   "id": "a89c0f7f",
   "metadata": {},
   "outputs": [
    {
     "data": {
      "text/plain": [
       "['a', 'e']"
      ]
     },
     "execution_count": 3,
     "metadata": {},
     "output_type": "execute_result"
    }
   ],
   "source": [
    "re.findall(r'a|e|i|o|u', 'bakery')"
   ]
  },
  {
   "cell_type": "code",
   "execution_count": 18,
   "id": "3d9ed9bb",
   "metadata": {},
   "outputs": [
    {
     "name": "stdout",
     "output_type": "stream",
     "text": [
      "{'a': 3, 'e': 2, 'u': 2, 'o': 1}\n"
     ]
    }
   ],
   "source": [
    "string = 'car regular double bad '\n",
    "list = re.findall(r'[aeiou]', string)\n",
    "dct = {c: list.count(c) for c in list}\n",
    "\n",
    "print(dct)"
   ]
  },
  {
   "cell_type": "code",
   "execution_count": 58,
   "id": "c6329999",
   "metadata": {},
   "outputs": [],
   "source": [
    "regex = r'[aeiouAEIOU]'\n",
    "     \n",
    "def is_vowel(string):\n",
    " \n",
    "    if(re.search(regex, string)):\n",
    "        print(\"is/has vowel\")\n",
    "         \n",
    "    else:\n",
    "        print(\"not vowel/has no vowels\")"
   ]
  },
  {
   "cell_type": "code",
   "execution_count": 61,
   "id": "55a01dbc",
   "metadata": {},
   "outputs": [
    {
     "name": "stdout",
     "output_type": "stream",
     "text": [
      "is/has vowel\n"
     ]
    }
   ],
   "source": [
    "is_vowel('Bloat')"
   ]
  },
  {
   "cell_type": "markdown",
   "id": "9588c679",
   "metadata": {},
   "source": [
    "Write a function named is_valid_username that accepts a string as input. A valid username starts with a lowercase letter, and only consists of lowercase letters, numbers, or the _ character. It should also be no longer than 32 characters. The function should return either True or False depending on whether the passed string is a valid username.\n",
    "  \n",
    "is_valid_username('aaaaaaaaaaaaaaaaaaaaaaaaaaaaaaaaa')  \n",
    "False  \n",
    "is_valid_username('codeup')  \n",
    "True  \n",
    "is_valid_username('Codeup')  \n",
    "False  \n",
    "is_valid_username('codeup123')  \n",
    "True  \n",
    "is_valid_username('1codeup')  \n",
    "False  "
   ]
  },
  {
   "cell_type": "code",
   "execution_count": 190,
   "id": "e7c3adc4",
   "metadata": {},
   "outputs": [],
   "source": [
    "def is_valid_username(string):\n",
    "    username_re = '^[a-z][a-z0-9_]{,31}$'\n",
    "    \n",
    "    return bool(re.search(username_re, string))"
   ]
  },
  {
   "cell_type": "code",
   "execution_count": 191,
   "id": "b087b09c",
   "metadata": {},
   "outputs": [
    {
     "data": {
      "text/plain": [
       "False"
      ]
     },
     "execution_count": 191,
     "metadata": {},
     "output_type": "execute_result"
    }
   ],
   "source": [
    "is_valid_username('aaaaaaaaaaaaaaaaaaaaaaaaaaaaaaaaa')"
   ]
  },
  {
   "cell_type": "code",
   "execution_count": 197,
   "id": "f0eb9b11",
   "metadata": {},
   "outputs": [
    {
     "name": "stdout",
     "output_type": "stream",
     "text": [
      "True\n"
     ]
    }
   ],
   "source": [
    "is_valid_username('codeup')"
   ]
  },
  {
   "cell_type": "code",
   "execution_count": 198,
   "id": "809fe191",
   "metadata": {},
   "outputs": [
    {
     "name": "stdout",
     "output_type": "stream",
     "text": [
      "False\n"
     ]
    }
   ],
   "source": [
    "is_valid_username('Codeup')"
   ]
  },
  {
   "cell_type": "code",
   "execution_count": 199,
   "id": "b8263f5b",
   "metadata": {},
   "outputs": [
    {
     "name": "stdout",
     "output_type": "stream",
     "text": [
      "True\n"
     ]
    }
   ],
   "source": [
    "is_valid_username('codeup123')"
   ]
  },
  {
   "cell_type": "code",
   "execution_count": 200,
   "id": "249ec007",
   "metadata": {},
   "outputs": [
    {
     "name": "stdout",
     "output_type": "stream",
     "text": [
      "False\n"
     ]
    }
   ],
   "source": [
    "is_valid_username('1codeup')"
   ]
  },
  {
   "cell_type": "markdown",
   "id": "f28febc1",
   "metadata": {},
   "source": [
    "Write a regular expression to capture phone numbers. It should match all of the following:  \n",
    "  \n",
    "(210) 867 5309  \n",
    "+1 210.867.5309  \n",
    "867-5309  \n",
    "210-867-5309  \n"
   ]
  },
  {
   "cell_type": "code",
   "execution_count": 203,
   "id": "0edecab8",
   "metadata": {},
   "outputs": [],
   "source": [
    "def is_phone_number(string):\n",
    "    phone_number_re = \"(\\+?\\d+)?.?(\\(?\\d{3}\\)?)?.?\\d{3}.?\\d{4}\"\n",
    "    \n",
    "    return (re.search(phone_number_re, string))"
   ]
  },
  {
   "cell_type": "code",
   "execution_count": 204,
   "id": "5923ac87",
   "metadata": {},
   "outputs": [
    {
     "data": {
      "text/plain": [
       "<re.Match object; span=(0, 14), match='(210)-867-5309'>"
      ]
     },
     "execution_count": 204,
     "metadata": {},
     "output_type": "execute_result"
    }
   ],
   "source": [
    "is_phone_number('(210)-867-5309')"
   ]
  },
  {
   "cell_type": "code",
   "execution_count": 205,
   "id": "6f1a7b91",
   "metadata": {},
   "outputs": [
    {
     "data": {
      "text/plain": [
       "<re.Match object; span=(0, 15), match='+1 210.867.5309'>"
      ]
     },
     "execution_count": 205,
     "metadata": {},
     "output_type": "execute_result"
    }
   ],
   "source": [
    "is_phone_number('+1 210.867.5309')"
   ]
  },
  {
   "cell_type": "code",
   "execution_count": 206,
   "id": "428c1985",
   "metadata": {},
   "outputs": [
    {
     "data": {
      "text/plain": [
       "<re.Match object; span=(0, 8), match='867-5309'>"
      ]
     },
     "execution_count": 206,
     "metadata": {},
     "output_type": "execute_result"
    }
   ],
   "source": [
    "is_phone_number('867-5309')"
   ]
  },
  {
   "cell_type": "code",
   "execution_count": 207,
   "id": "316313d4",
   "metadata": {},
   "outputs": [
    {
     "data": {
      "text/plain": [
       "<re.Match object; span=(0, 12), match='210-867-5309'>"
      ]
     },
     "execution_count": 207,
     "metadata": {},
     "output_type": "execute_result"
    }
   ],
   "source": [
    "is_phone_number('210-867-5309')"
   ]
  },
  {
   "cell_type": "markdown",
   "id": "cfd52bbe",
   "metadata": {},
   "source": [
    "Use regular expressions to convert the dates below to the standardized year-month-day format.  \n",
    "  \n",
    "02/04/19  \n",
    "02/05/19  \n",
    "02/06/19  \n",
    "02/07/19  \n",
    "02/08/19  \n",
    "02/09/19  \n",
    "02/10/19  \n"
   ]
  },
  {
   "cell_type": "code",
   "execution_count": null,
   "id": "b07374a6",
   "metadata": {},
   "outputs": [],
   "source": []
  },
  {
   "cell_type": "markdown",
   "id": "a48d42d3",
   "metadata": {},
   "source": [
    "Write a regex to extract the various parts of these logfile lines:  \n",
    "  \n",
    "GET /api/v1/sales?page=86 [16/Apr/2019:193452+0000] HTTP/1.1 {200} 510348 \"python-  requests/2.21.0\" 97.105.19.58  \n",
    "POST /users_accounts/file-upload [16/Apr/2019:193452+0000] HTTP/1.1 {201} 42 \"User-Agent: Mozilla/5.0 (X11; Fedora; Fedora; Linux x86_64) AppleWebKit/537.36 (KHTML, like Gecko) Chrome/73.0.3683.86 Safari/537.36\" 97.105.19.58  \n",
    "GET /api/v1/items?page=3 [16/Apr/2019:193453+0000] HTTP/1.1 {429} 3561 \"python-requests/2.21.0\" 97.105.19.58  \n"
   ]
  },
  {
   "cell_type": "code",
   "execution_count": 208,
   "id": "471d80b8",
   "metadata": {},
   "outputs": [
    {
     "data": {
      "text/html": [
       "<div>\n",
       "<style scoped>\n",
       "    .dataframe tbody tr th:only-of-type {\n",
       "        vertical-align: middle;\n",
       "    }\n",
       "\n",
       "    .dataframe tbody tr th {\n",
       "        vertical-align: top;\n",
       "    }\n",
       "\n",
       "    .dataframe thead th {\n",
       "        text-align: right;\n",
       "    }\n",
       "</style>\n",
       "<table border=\"1\" class=\"dataframe\">\n",
       "  <thead>\n",
       "    <tr style=\"text-align: right;\">\n",
       "      <th></th>\n",
       "      <th>method</th>\n",
       "      <th>path</th>\n",
       "      <th>timestamp</th>\n",
       "      <th>http_version</th>\n",
       "      <th>status</th>\n",
       "      <th>bytes</th>\n",
       "      <th>user_agent</th>\n",
       "      <th>ip</th>\n",
       "    </tr>\n",
       "  </thead>\n",
       "  <tbody>\n",
       "    <tr>\n",
       "      <th>0</th>\n",
       "      <td>GET</td>\n",
       "      <td>/api/v1/sales?page=86</td>\n",
       "      <td>16/Apr/2019:193452+0000</td>\n",
       "      <td>HTTP/1.1</td>\n",
       "      <td>200</td>\n",
       "      <td>510348</td>\n",
       "      <td>python-requests/2.21.0</td>\n",
       "      <td>97.105.19.58</td>\n",
       "    </tr>\n",
       "    <tr>\n",
       "      <th>1</th>\n",
       "      <td>POST</td>\n",
       "      <td>/users_accounts/file-upload</td>\n",
       "      <td>16/Apr/2019:193452+0000</td>\n",
       "      <td>HTTP/1.1</td>\n",
       "      <td>201</td>\n",
       "      <td>42</td>\n",
       "      <td>User-Agent: Mozilla/5.0 (X11; Fedora; Fedora; ...</td>\n",
       "      <td>97.105.19.58</td>\n",
       "    </tr>\n",
       "    <tr>\n",
       "      <th>2</th>\n",
       "      <td>GET</td>\n",
       "      <td>/api/v1/items?page=3</td>\n",
       "      <td>16/Apr/2019:193453+0000</td>\n",
       "      <td>HTTP/1.1</td>\n",
       "      <td>429</td>\n",
       "      <td>3561</td>\n",
       "      <td>python-requests/2.21.0</td>\n",
       "      <td>97.105.19.58</td>\n",
       "    </tr>\n",
       "  </tbody>\n",
       "</table>\n",
       "</div>"
      ],
      "text/plain": [
       "  method                         path                timestamp http_version  \\\n",
       "0    GET        /api/v1/sales?page=86  16/Apr/2019:193452+0000     HTTP/1.1   \n",
       "1   POST  /users_accounts/file-upload  16/Apr/2019:193452+0000     HTTP/1.1   \n",
       "2    GET         /api/v1/items?page=3  16/Apr/2019:193453+0000     HTTP/1.1   \n",
       "\n",
       "  status   bytes                                         user_agent  \\\n",
       "0    200  510348                             python-requests/2.21.0   \n",
       "1    201      42  User-Agent: Mozilla/5.0 (X11; Fedora; Fedora; ...   \n",
       "2    429    3561                             python-requests/2.21.0   \n",
       "\n",
       "             ip  \n",
       "0  97.105.19.58  \n",
       "1  97.105.19.58  \n",
       "2  97.105.19.58  "
      ]
     },
     "execution_count": 208,
     "metadata": {},
     "output_type": "execute_result"
    }
   ],
   "source": [
    "logfile_re = r'''\n",
    "^(?P<method>GET|POST)\n",
    "\\s+\n",
    "(?P<path>.*?)\n",
    "\\s+\n",
    "\\[(?P<timestamp>.*?)\\]\n",
    "\\s+\n",
    "(?P<http_version>.*?)\n",
    "\\s+\n",
    "\\{(?P<status>\\d+)\\}\n",
    "\\s+\n",
    "(?P<bytes>\\d+)\n",
    "\\s+\n",
    "\"(?P<user_agent>.*)\"\n",
    "\\s+\n",
    "(?P<ip>.*)$\n",
    "'''\n",
    "\n",
    "lines = pd.Series([\n",
    "    'GET /api/v1/sales?page=86 [16/Apr/2019:193452+0000] HTTP/1.1 {200} 510348 \"python-requests/2.21.0\" 97.105.19.58',\n",
    "    'POST /users_accounts/file-upload [16/Apr/2019:193452+0000] HTTP/1.1 {201} 42 \"User-Agent: Mozilla/5.0 (X11; Fedora; Fedora; Linux x86_64) AppleWebKit/537.36 (KHTML, like Gecko) Chrome/73.0.3683.86 Safari/537.36\" 97.105.19.58',\n",
    "    'GET /api/v1/items?page=3 [16/Apr/2019:193453+0000] HTTP/1.1 {429} 3561 \"python-requests/2.21.0\" 97.105.19.58',\n",
    "])\n",
    "lines.str.extract(logfile_re, re.VERBOSE)"
   ]
  },
  {
   "cell_type": "code",
   "execution_count": null,
   "id": "543e7ed4",
   "metadata": {},
   "outputs": [],
   "source": []
  }
 ],
 "metadata": {
  "kernelspec": {
   "display_name": "Python 3 (ipykernel)",
   "language": "python",
   "name": "python3"
  },
  "language_info": {
   "codemirror_mode": {
    "name": "ipython",
    "version": 3
   },
   "file_extension": ".py",
   "mimetype": "text/x-python",
   "name": "python",
   "nbconvert_exporter": "python",
   "pygments_lexer": "ipython3",
   "version": "3.9.13"
  }
 },
 "nbformat": 4,
 "nbformat_minor": 5
}
