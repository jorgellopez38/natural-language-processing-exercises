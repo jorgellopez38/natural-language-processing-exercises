{
 "cells": [
  {
   "cell_type": "code",
   "execution_count": 1,
   "id": "7918bef2",
   "metadata": {},
   "outputs": [],
   "source": [
    "import re\n",
    "import pandas as pd"
   ]
  },
  {
   "cell_type": "markdown",
   "id": "85b6015d",
   "metadata": {},
   "source": [
    "Write a function named is_vowel. It should accept a string as input and use a regular expression to determine if the passed string is a vowel. While not explicity mentioned in the lesson, you can treat the result of re.search as a boolean value that indicates whether or not the regular expression matches the given string."
   ]
  },
  {
   "cell_type": "code",
   "execution_count": 2,
   "id": "98e2419d",
   "metadata": {},
   "outputs": [
    {
     "data": {
      "text/plain": [
       "'aeiou'"
      ]
     },
     "execution_count": 2,
     "metadata": {},
     "output_type": "execute_result"
    }
   ],
   "source": [
    "string = 'aeiou'\n",
    "string"
   ]
  },
  {
   "cell_type": "code",
   "execution_count": 3,
   "id": "5249ee4d",
   "metadata": {},
   "outputs": [
    {
     "data": {
      "text/plain": [
       "['a', 'e']"
      ]
     },
     "execution_count": 3,
     "metadata": {},
     "output_type": "execute_result"
    }
   ],
   "source": [
    "re.findall(r'a|e|i|o|u', 'bakery')"
   ]
  },
  {
   "cell_type": "code",
   "execution_count": 18,
   "id": "a9becc12",
   "metadata": {},
   "outputs": [
    {
     "name": "stdout",
     "output_type": "stream",
     "text": [
      "{'a': 3, 'e': 2, 'u': 2, 'o': 1}\n"
     ]
    }
   ],
   "source": [
    "string = 'car regular double bad '\n",
    "list = re.findall(r'[aeiou]', string)\n",
    "dct = {c: list.count(c) for c in list}\n",
    "\n",
    "print(dct)"
   ]
  },
  {
   "cell_type": "code",
   "execution_count": 58,
   "id": "b33ca055",
   "metadata": {},
   "outputs": [],
   "source": [
    "regex = r'[aeiouAEIOU]'\n",
    "     \n",
    "def is_vowel(string):\n",
    " \n",
    "    if(re.search(regex, string)):\n",
    "        print(\"is/has vowel\")\n",
    "         \n",
    "    else:\n",
    "        print(\"not vowel/has no vowels\")"
   ]
  },
  {
   "cell_type": "code",
   "execution_count": 61,
   "id": "016021c3",
   "metadata": {},
   "outputs": [
    {
     "name": "stdout",
     "output_type": "stream",
     "text": [
      "is/has vowel\n"
     ]
    }
   ],
   "source": [
    "is_vowel('Bloat')"
   ]
  },
  {
   "cell_type": "markdown",
   "id": "62b13f31",
   "metadata": {},
   "source": [
    "Write a function named is_valid_username that accepts a string as input. A valid username starts with a lowercase letter, and only consists of lowercase letters, numbers, or the _ character. It should also be no longer than 32 characters. The function should return either True or False depending on whether the passed string is a valid username.\n",
    "  \n",
    "is_valid_username('aaaaaaaaaaaaaaaaaaaaaaaaaaaaaaaaa')  \n",
    "False  \n",
    "is_valid_username('codeup')  \n",
    "True  \n",
    "is_valid_username('Codeup')  \n",
    "False  \n",
    "is_valid_username('codeup123')  \n",
    "True  \n",
    "is_valid_username('1codeup')  \n",
    "False  "
   ]
  },
  {
   "cell_type": "code",
   "execution_count": 177,
   "id": "e826414b",
   "metadata": {},
   "outputs": [],
   "source": [
    "regex = r'^[a-z][a-z0-9_]{1,32}$'\n",
    "     \n",
    "def is_valid_username(string):\n",
    " \n",
    "    if(re.findall(regex, string)):\n",
    "        print(\"True\")\n",
    "         \n",
    "    else:\n",
    "        print(\"False\")"
   ]
  },
  {
   "cell_type": "code",
   "execution_count": 178,
   "id": "d8cb668e",
   "metadata": {},
   "outputs": [
    {
     "name": "stdout",
     "output_type": "stream",
     "text": [
      "True\n"
     ]
    }
   ],
   "source": [
    "is_valid_username('aaaaaaaaaaaaaaaaaaaaaaaaaaaaaaaaa')"
   ]
  },
  {
   "cell_type": "code",
   "execution_count": 161,
   "id": "44dd75d5",
   "metadata": {},
   "outputs": [
    {
     "name": "stdout",
     "output_type": "stream",
     "text": [
      "True\n"
     ]
    }
   ],
   "source": [
    "is_valid_username('codeup')"
   ]
  },
  {
   "cell_type": "code",
   "execution_count": 162,
   "id": "c8f79678",
   "metadata": {},
   "outputs": [
    {
     "name": "stdout",
     "output_type": "stream",
     "text": [
      "False\n"
     ]
    }
   ],
   "source": [
    "is_valid_username('Codeup')"
   ]
  },
  {
   "cell_type": "code",
   "execution_count": 163,
   "id": "89a2805f",
   "metadata": {},
   "outputs": [
    {
     "name": "stdout",
     "output_type": "stream",
     "text": [
      "True\n"
     ]
    }
   ],
   "source": [
    "is_valid_username('codeup123')"
   ]
  },
  {
   "cell_type": "code",
   "execution_count": 145,
   "id": "b925cccd",
   "metadata": {},
   "outputs": [
    {
     "name": "stdout",
     "output_type": "stream",
     "text": [
      "False\n"
     ]
    }
   ],
   "source": [
    "is_valid_username('1codeup')"
   ]
  },
  {
   "cell_type": "markdown",
   "id": "d548b7ac",
   "metadata": {},
   "source": [
    "Write a regular expression to capture phone numbers. It should match all of the following:  \n",
    "  \n",
    "(210) 867 5309  \n",
    "+1 210.867.5309  \n",
    "867-5309  \n",
    "210-867-5309  \n"
   ]
  },
  {
   "cell_type": "code",
   "execution_count": 107,
   "id": "9be16441",
   "metadata": {},
   "outputs": [
    {
     "data": {
      "text/plain": [
       "['(', '2', '1', '0', ')', '8', '6', '7', '5', '3', '0', '9']"
      ]
     },
     "execution_count": 107,
     "metadata": {},
     "output_type": "execute_result"
    }
   ],
   "source": [
    "re.findall(r'[0-9a-zA-Z()+]', '(210)-867-5309')"
   ]
  },
  {
   "cell_type": "code",
   "execution_count": 108,
   "id": "39901c0e",
   "metadata": {},
   "outputs": [
    {
     "data": {
      "text/plain": [
       "['+', '1', '2', '1', '0', '8', '6', '7', '5', '3', '0', '9']"
      ]
     },
     "execution_count": 108,
     "metadata": {},
     "output_type": "execute_result"
    }
   ],
   "source": [
    "re.findall(r'[0-9a-zA-Z()+]', '+1 210.867.5309')"
   ]
  },
  {
   "cell_type": "code",
   "execution_count": 109,
   "id": "95722228",
   "metadata": {},
   "outputs": [
    {
     "data": {
      "text/plain": [
       "['8', '6', '7', '5', '3', '0', '9']"
      ]
     },
     "execution_count": 109,
     "metadata": {},
     "output_type": "execute_result"
    }
   ],
   "source": [
    "re.findall(r'[0-9a-zA-Z()+]', '867-5309')"
   ]
  },
  {
   "cell_type": "code",
   "execution_count": 110,
   "id": "c392f2d7",
   "metadata": {},
   "outputs": [
    {
     "data": {
      "text/plain": [
       "['2', '1', '0', '8', '6', '7', '5', '3', '0', '9']"
      ]
     },
     "execution_count": 110,
     "metadata": {},
     "output_type": "execute_result"
    }
   ],
   "source": [
    "re.findall(r'[0-9a-zA-Z()+]', '210-867-5309 ')"
   ]
  },
  {
   "cell_type": "markdown",
   "id": "044d5a8b",
   "metadata": {},
   "source": [
    "Use regular expressions to convert the dates below to the standardized year-month-day format.  \n",
    "  \n",
    "02/04/19  \n",
    "02/05/19  \n",
    "02/06/19  \n",
    "02/07/19  \n",
    "02/08/19  \n",
    "02/09/19  \n",
    "02/10/19  \n"
   ]
  },
  {
   "cell_type": "code",
   "execution_count": null,
   "id": "5af4b4bd",
   "metadata": {},
   "outputs": [],
   "source": []
  },
  {
   "cell_type": "markdown",
   "id": "4c55a8e4",
   "metadata": {},
   "source": [
    "Write a regex to extract the various parts of these logfile lines:  \n",
    "  \n",
    "GET /api/v1/sales?page=86 [16/Apr/2019:193452+0000] HTTP/1.1 {200} 510348 \"python-  requests/2.21.0\" 97.105.19.58  \n",
    "POST /users_accounts/file-upload [16/Apr/2019:193452+0000] HTTP/1.1 {201} 42 \"User-Agent: Mozilla/5.0 (X11; Fedora; Fedora; Linux x86_64) AppleWebKit/537.36 (KHTML, like Gecko) Chrome/73.0.3683.86 Safari/537.36\" 97.105.19.58  \n",
    "GET /api/v1/items?page=3 [16/Apr/2019:193453+0000] HTTP/1.1 {429} 3561 \"python-requests/2.21.0\" 97.105.19.58  \n"
   ]
  },
  {
   "cell_type": "code",
   "execution_count": 112,
   "id": "13c1ef05",
   "metadata": {
    "scrolled": true
   },
   "outputs": [
    {
     "data": {
      "text/plain": [
       "['G',\n",
       " 'E',\n",
       " 'T',\n",
       " 'a',\n",
       " 'p',\n",
       " 'i',\n",
       " 'v',\n",
       " '1',\n",
       " 's',\n",
       " 'a',\n",
       " 'l',\n",
       " 'e',\n",
       " 's',\n",
       " 'p',\n",
       " 'a',\n",
       " 'g',\n",
       " 'e',\n",
       " '8',\n",
       " '6',\n",
       " '1',\n",
       " '6',\n",
       " 'A',\n",
       " 'p',\n",
       " 'r',\n",
       " '2',\n",
       " '0',\n",
       " '1',\n",
       " '9',\n",
       " '1',\n",
       " '9',\n",
       " '3',\n",
       " '4',\n",
       " '5',\n",
       " '2',\n",
       " '+',\n",
       " '0',\n",
       " '0',\n",
       " '0',\n",
       " '0',\n",
       " 'H',\n",
       " 'T',\n",
       " 'T',\n",
       " 'P',\n",
       " '1',\n",
       " '1',\n",
       " '2',\n",
       " '0',\n",
       " '0',\n",
       " '5',\n",
       " '1',\n",
       " '0',\n",
       " '3',\n",
       " '4',\n",
       " '8',\n",
       " 'p',\n",
       " 'y',\n",
       " 't',\n",
       " 'h',\n",
       " 'o',\n",
       " 'n',\n",
       " 'r',\n",
       " 'e',\n",
       " 'q',\n",
       " 'u',\n",
       " 'e',\n",
       " 's',\n",
       " 't',\n",
       " 's',\n",
       " '2',\n",
       " '2',\n",
       " '1',\n",
       " '0',\n",
       " '9',\n",
       " '7',\n",
       " '1',\n",
       " '0',\n",
       " '5',\n",
       " '1',\n",
       " '9',\n",
       " '5',\n",
       " '8']"
      ]
     },
     "execution_count": 112,
     "metadata": {},
     "output_type": "execute_result"
    }
   ],
   "source": [
    "string = 'GET /api/v1/sales?page=86 [16/Apr/2019:193452+0000] HTTP/1.1 {200} 510348 \"python- requests/2.21.0\" 97.105.19.58'\n",
    "re.findall(r'[0-9a-zA-Z()+]', string)"
   ]
  },
  {
   "cell_type": "code",
   "execution_count": 129,
   "id": "9ad40f7e",
   "metadata": {},
   "outputs": [
    {
     "data": {
      "text/plain": [
       "('users_accounts', 'file')"
      ]
     },
     "execution_count": 129,
     "metadata": {},
     "output_type": "execute_result"
    }
   ],
   "source": [
    "sentence = 'POST /users_accounts/file-upload [16/Apr/2019:193452+0000] HTTP/1.1 {201} 42 \"User-Agent: Mozilla/5.0 (X11; Fedora; Fedora; Linux x86_64) AppleWebKit/537.36 (KHTML, like Gecko) Chrome/73.0.3683.86 Safari/537.36\" 97.105.19.58'\n",
    "url_re = r'(\\w+)\\/(\\w+)'\n",
    "\n",
    "re.search(url_re, sentence).groups()"
   ]
  },
  {
   "cell_type": "code",
   "execution_count": 139,
   "id": "230ec3c0",
   "metadata": {},
   "outputs": [
    {
     "data": {
      "text/plain": [
       "('=', ' [')"
      ]
     },
     "execution_count": 139,
     "metadata": {},
     "output_type": "execute_result"
    }
   ],
   "source": [
    "sentence = 'GET /api/v1/items?page=3 [16/Apr/2019:193453+0000] HTTP/1.1 {429} 3561 \"python-requests/2.21.0\" 97.105.19.58'\n",
    "url_re = r'(\\W+).(\\W+)'\n",
    "\n",
    "re.search(url_re, sentence).groups()"
   ]
  },
  {
   "cell_type": "code",
   "execution_count": null,
   "id": "8d9954b9",
   "metadata": {},
   "outputs": [],
   "source": []
  }
 ],
 "metadata": {
  "kernelspec": {
   "display_name": "Python 3 (ipykernel)",
   "language": "python",
   "name": "python3"
  },
  "language_info": {
   "codemirror_mode": {
    "name": "ipython",
    "version": 3
   },
   "file_extension": ".py",
   "mimetype": "text/x-python",
   "name": "python",
   "nbconvert_exporter": "python",
   "pygments_lexer": "ipython3",
   "version": "3.9.13"
  }
 },
 "nbformat": 4,
 "nbformat_minor": 5
}
