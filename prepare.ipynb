{
 "cells": [
  {
   "cell_type": "code",
   "execution_count": 1,
   "id": "aece3a86",
   "metadata": {},
   "outputs": [],
   "source": [
    "import unicodedata\n",
    "import re\n",
    "import json\n",
    "\n",
    "import nltk\n",
    "from nltk.tokenize.toktok import ToktokTokenizer\n",
    "from nltk.corpus import stopwords\n",
    "\n",
    "import pandas as pd\n",
    "\n",
    "import acquire as a"
   ]
  },
  {
   "cell_type": "code",
   "execution_count": 2,
   "id": "37aaff57",
   "metadata": {},
   "outputs": [],
   "source": [
    "original = \"Paul Erdős and George Pólya were influential Hungarian mathematicians who contributed \\\n",
    "a lot to the field. Erdős's name contains the Hungarian letter 'ő' ('o' with double acute accent), \\\n",
    "but is often incorrectly written as Erdos or Erdös either by mistake or out of typographical necessity\""
   ]
  },
  {
   "cell_type": "code",
   "execution_count": 3,
   "id": "828dabf1",
   "metadata": {},
   "outputs": [
    {
     "data": {
      "text/plain": [
       "\"Paul Erdős and George Pólya were influential Hungarian mathematicians who contributed a lot to the field. Erdős's name contains the Hungarian letter 'ő' ('o' with double acute accent), but is often incorrectly written as Erdos or Erdös either by mistake or out of typographical necessity\""
      ]
     },
     "execution_count": 3,
     "metadata": {},
     "output_type": "execute_result"
    }
   ],
   "source": [
    "original"
   ]
  },
  {
   "cell_type": "code",
   "execution_count": 4,
   "id": "e9625c3e",
   "metadata": {},
   "outputs": [
    {
     "data": {
      "text/plain": [
       "\"paul erdős and george pólya were influential hungarian mathematicians who contributed a lot to the field. erdős's name contains the hungarian letter 'ő' ('o' with double acute accent), but is often incorrectly written as erdos or erdös either by mistake or out of typographical necessity\""
      ]
     },
     "execution_count": 4,
     "metadata": {},
     "output_type": "execute_result"
    }
   ],
   "source": [
    "# lowercase everything\n",
    "original = original.lower()\n",
    "original"
   ]
  },
  {
   "cell_type": "code",
   "execution_count": 5,
   "id": "3a64a370",
   "metadata": {},
   "outputs": [
    {
     "data": {
      "text/plain": [
       "\"paul erdos and george polya were influential hungarian mathematicians who contributed a lot to the field. erdos's name contains the hungarian letter 'o' ('o' with double acute accent), but is often incorrectly written as erdos or erdos either by mistake or out of typographical necessity\""
      ]
     },
     "execution_count": 5,
     "metadata": {},
     "output_type": "execute_result"
    }
   ],
   "source": [
    "# remove accented characters and non-ASCII characters\n",
    "original = unicodedata.normalize('NFKD', original).encode('ascii', 'ignore').decode('utf-8')\n",
    "original"
   ]
  },
  {
   "cell_type": "code",
   "execution_count": 6,
   "id": "3e8c3d51",
   "metadata": {},
   "outputs": [
    {
     "data": {
      "text/plain": [
       "'paul erdos and george polya were influential hungarian mathematicians who contributed a lot to the field erdoss name contains the hungarian letter o o with double acute accent but is often incorrectly written as erdos or erdos either by mistake or out of typographical necessity'"
      ]
     },
     "execution_count": 6,
     "metadata": {},
     "output_type": "execute_result"
    }
   ],
   "source": [
    "# remove special characters\n",
    "original = re.sub(r'[^a-z0-9\\s]', '', original)\n",
    "original"
   ]
  },
  {
   "cell_type": "code",
   "execution_count": 7,
   "id": "db675c45",
   "metadata": {},
   "outputs": [
    {
     "data": {
      "text/plain": [
       "<nltk.tokenize.toktok.ToktokTokenizer at 0x7f881e5d6550>"
      ]
     },
     "execution_count": 7,
     "metadata": {},
     "output_type": "execute_result"
    }
   ],
   "source": [
    "# tokenize\n",
    "tokenize = nltk.tokenize.ToktokTokenizer()\n",
    "tokenize"
   ]
  },
  {
   "cell_type": "code",
   "execution_count": 8,
   "id": "86c1204f",
   "metadata": {
    "scrolled": true
   },
   "outputs": [
    {
     "data": {
      "text/plain": [
       "['paul',\n",
       " 'erdos',\n",
       " 'and',\n",
       " 'george',\n",
       " 'polya',\n",
       " 'were',\n",
       " 'influential',\n",
       " 'hungarian',\n",
       " 'mathematicians',\n",
       " 'who',\n",
       " 'contributed',\n",
       " 'a',\n",
       " 'lot',\n",
       " 'to',\n",
       " 'the',\n",
       " 'field',\n",
       " 'erdoss',\n",
       " 'name',\n",
       " 'contains',\n",
       " 'the',\n",
       " 'hungarian',\n",
       " 'letter',\n",
       " 'o',\n",
       " 'o',\n",
       " 'with',\n",
       " 'double',\n",
       " 'acute',\n",
       " 'accent',\n",
       " 'but',\n",
       " 'is',\n",
       " 'often',\n",
       " 'incorrectly',\n",
       " 'written',\n",
       " 'as',\n",
       " 'erdos',\n",
       " 'or',\n",
       " 'erdos',\n",
       " 'either',\n",
       " 'by',\n",
       " 'mistake',\n",
       " 'or',\n",
       " 'out',\n",
       " 'of',\n",
       " 'typographical',\n",
       " 'necessity']"
      ]
     },
     "execution_count": 8,
     "metadata": {},
     "output_type": "execute_result"
    }
   ],
   "source": [
    "original = tokenize.tokenize(original)\n",
    "original"
   ]
  },
  {
   "cell_type": "code",
   "execution_count": 9,
   "id": "d19931e7",
   "metadata": {},
   "outputs": [
    {
     "data": {
      "text/plain": [
       "<PorterStemmer>"
      ]
     },
     "execution_count": 9,
     "metadata": {},
     "output_type": "execute_result"
    }
   ],
   "source": [
    "# stemming\n",
    "ps = nltk.porter.PorterStemmer()\n",
    "ps"
   ]
  },
  {
   "cell_type": "code",
   "execution_count": 10,
   "id": "4ec8a78f",
   "metadata": {},
   "outputs": [
    {
     "data": {
      "text/plain": [
       "('call', 'call', 'call', 'call')"
      ]
     },
     "execution_count": 10,
     "metadata": {},
     "output_type": "execute_result"
    }
   ],
   "source": [
    "ps.stem('calling'), ps.stem('calls'), ps.stem('called'), ps.stem('call')"
   ]
  },
  {
   "cell_type": "code",
   "execution_count": 11,
   "id": "f4fc28db",
   "metadata": {},
   "outputs": [
    {
     "data": {
      "text/plain": [
       "('hous', 'hous')"
      ]
     },
     "execution_count": 11,
     "metadata": {},
     "output_type": "execute_result"
    }
   ],
   "source": [
    "ps.stem('house'), ps.stem('housing')"
   ]
  },
  {
   "cell_type": "code",
   "execution_count": 12,
   "id": "d8da1e15",
   "metadata": {},
   "outputs": [
    {
     "data": {
      "text/plain": [
       "'paul erdo and georg polya were influenti hungarian mathematician who contribut a lot to the field erdoss name contain the hungarian letter o o with doubl acut accent but is often incorrectli written as erdo or erdo either by mistak or out of typograph necess'"
      ]
     },
     "execution_count": 12,
     "metadata": {},
     "output_type": "execute_result"
    }
   ],
   "source": [
    "stems = [ps.stem(word) for word in original]\n",
    "' '.join(stems)"
   ]
  },
  {
   "cell_type": "code",
   "execution_count": 13,
   "id": "bd659f3a",
   "metadata": {
    "scrolled": true
   },
   "outputs": [
    {
     "name": "stderr",
     "output_type": "stream",
     "text": [
      "[nltk_data] Downloading collection 'all'\n",
      "[nltk_data]    | \n",
      "[nltk_data]    | Downloading package abc to\n",
      "[nltk_data]    |     /Users/jorgelopez/nltk_data...\n",
      "[nltk_data]    |   Package abc is already up-to-date!\n",
      "[nltk_data]    | Downloading package alpino to\n",
      "[nltk_data]    |     /Users/jorgelopez/nltk_data...\n",
      "[nltk_data]    |   Package alpino is already up-to-date!\n",
      "[nltk_data]    | Downloading package averaged_perceptron_tagger to\n",
      "[nltk_data]    |     /Users/jorgelopez/nltk_data...\n",
      "[nltk_data]    |   Package averaged_perceptron_tagger is already up-\n",
      "[nltk_data]    |       to-date!\n",
      "[nltk_data]    | Downloading package averaged_perceptron_tagger_ru to\n",
      "[nltk_data]    |     /Users/jorgelopez/nltk_data...\n",
      "[nltk_data]    |   Package averaged_perceptron_tagger_ru is already\n",
      "[nltk_data]    |       up-to-date!\n",
      "[nltk_data]    | Downloading package basque_grammars to\n",
      "[nltk_data]    |     /Users/jorgelopez/nltk_data...\n",
      "[nltk_data]    |   Package basque_grammars is already up-to-date!\n",
      "[nltk_data]    | Downloading package bcp47 to\n",
      "[nltk_data]    |     /Users/jorgelopez/nltk_data...\n",
      "[nltk_data]    |   Package bcp47 is already up-to-date!\n",
      "[nltk_data]    | Downloading package biocreative_ppi to\n",
      "[nltk_data]    |     /Users/jorgelopez/nltk_data...\n",
      "[nltk_data]    |   Package biocreative_ppi is already up-to-date!\n",
      "[nltk_data]    | Downloading package bllip_wsj_no_aux to\n",
      "[nltk_data]    |     /Users/jorgelopez/nltk_data...\n",
      "[nltk_data]    |   Package bllip_wsj_no_aux is already up-to-date!\n",
      "[nltk_data]    | Downloading package book_grammars to\n",
      "[nltk_data]    |     /Users/jorgelopez/nltk_data...\n",
      "[nltk_data]    |   Package book_grammars is already up-to-date!\n",
      "[nltk_data]    | Downloading package brown to\n",
      "[nltk_data]    |     /Users/jorgelopez/nltk_data...\n",
      "[nltk_data]    |   Package brown is already up-to-date!\n",
      "[nltk_data]    | Downloading package brown_tei to\n",
      "[nltk_data]    |     /Users/jorgelopez/nltk_data...\n",
      "[nltk_data]    |   Package brown_tei is already up-to-date!\n",
      "[nltk_data]    | Downloading package cess_cat to\n",
      "[nltk_data]    |     /Users/jorgelopez/nltk_data...\n",
      "[nltk_data]    |   Package cess_cat is already up-to-date!\n",
      "[nltk_data]    | Downloading package cess_esp to\n",
      "[nltk_data]    |     /Users/jorgelopez/nltk_data...\n",
      "[nltk_data]    |   Package cess_esp is already up-to-date!\n",
      "[nltk_data]    | Downloading package chat80 to\n",
      "[nltk_data]    |     /Users/jorgelopez/nltk_data...\n",
      "[nltk_data]    |   Package chat80 is already up-to-date!\n",
      "[nltk_data]    | Downloading package city_database to\n",
      "[nltk_data]    |     /Users/jorgelopez/nltk_data...\n",
      "[nltk_data]    |   Package city_database is already up-to-date!\n",
      "[nltk_data]    | Downloading package cmudict to\n",
      "[nltk_data]    |     /Users/jorgelopez/nltk_data...\n",
      "[nltk_data]    |   Package cmudict is already up-to-date!\n",
      "[nltk_data]    | Downloading package comparative_sentences to\n",
      "[nltk_data]    |     /Users/jorgelopez/nltk_data...\n",
      "[nltk_data]    |   Package comparative_sentences is already up-to-\n",
      "[nltk_data]    |       date!\n",
      "[nltk_data]    | Downloading package comtrans to\n",
      "[nltk_data]    |     /Users/jorgelopez/nltk_data...\n",
      "[nltk_data]    |   Package comtrans is already up-to-date!\n",
      "[nltk_data]    | Downloading package conll2000 to\n",
      "[nltk_data]    |     /Users/jorgelopez/nltk_data...\n",
      "[nltk_data]    |   Package conll2000 is already up-to-date!\n",
      "[nltk_data]    | Downloading package conll2002 to\n",
      "[nltk_data]    |     /Users/jorgelopez/nltk_data...\n",
      "[nltk_data]    |   Package conll2002 is already up-to-date!\n",
      "[nltk_data]    | Downloading package conll2007 to\n",
      "[nltk_data]    |     /Users/jorgelopez/nltk_data...\n",
      "[nltk_data]    |   Package conll2007 is already up-to-date!\n",
      "[nltk_data]    | Downloading package crubadan to\n",
      "[nltk_data]    |     /Users/jorgelopez/nltk_data...\n",
      "[nltk_data]    |   Package crubadan is already up-to-date!\n",
      "[nltk_data]    | Downloading package dependency_treebank to\n",
      "[nltk_data]    |     /Users/jorgelopez/nltk_data...\n",
      "[nltk_data]    |   Package dependency_treebank is already up-to-date!\n",
      "[nltk_data]    | Downloading package dolch to\n",
      "[nltk_data]    |     /Users/jorgelopez/nltk_data...\n",
      "[nltk_data]    |   Package dolch is already up-to-date!\n",
      "[nltk_data]    | Downloading package europarl_raw to\n",
      "[nltk_data]    |     /Users/jorgelopez/nltk_data...\n",
      "[nltk_data]    |   Package europarl_raw is already up-to-date!\n",
      "[nltk_data]    | Downloading package extended_omw to\n",
      "[nltk_data]    |     /Users/jorgelopez/nltk_data...\n",
      "[nltk_data]    |   Package extended_omw is already up-to-date!\n",
      "[nltk_data]    | Downloading package floresta to\n",
      "[nltk_data]    |     /Users/jorgelopez/nltk_data...\n",
      "[nltk_data]    |   Package floresta is already up-to-date!\n",
      "[nltk_data]    | Downloading package framenet_v15 to\n",
      "[nltk_data]    |     /Users/jorgelopez/nltk_data...\n",
      "[nltk_data]    |   Package framenet_v15 is already up-to-date!\n",
      "[nltk_data]    | Downloading package framenet_v17 to\n",
      "[nltk_data]    |     /Users/jorgelopez/nltk_data...\n",
      "[nltk_data]    |   Package framenet_v17 is already up-to-date!\n",
      "[nltk_data]    | Downloading package gazetteers to\n",
      "[nltk_data]    |     /Users/jorgelopez/nltk_data...\n",
      "[nltk_data]    |   Package gazetteers is already up-to-date!\n",
      "[nltk_data]    | Downloading package genesis to\n",
      "[nltk_data]    |     /Users/jorgelopez/nltk_data...\n",
      "[nltk_data]    |   Package genesis is already up-to-date!\n",
      "[nltk_data]    | Downloading package gutenberg to\n",
      "[nltk_data]    |     /Users/jorgelopez/nltk_data...\n",
      "[nltk_data]    |   Package gutenberg is already up-to-date!\n",
      "[nltk_data]    | Downloading package ieer to\n",
      "[nltk_data]    |     /Users/jorgelopez/nltk_data...\n",
      "[nltk_data]    |   Package ieer is already up-to-date!\n",
      "[nltk_data]    | Downloading package inaugural to\n",
      "[nltk_data]    |     /Users/jorgelopez/nltk_data...\n",
      "[nltk_data]    |   Package inaugural is already up-to-date!\n",
      "[nltk_data]    | Downloading package indian to\n",
      "[nltk_data]    |     /Users/jorgelopez/nltk_data...\n",
      "[nltk_data]    |   Package indian is already up-to-date!\n",
      "[nltk_data]    | Downloading package jeita to\n",
      "[nltk_data]    |     /Users/jorgelopez/nltk_data...\n",
      "[nltk_data]    |   Package jeita is already up-to-date!\n",
      "[nltk_data]    | Downloading package kimmo to\n",
      "[nltk_data]    |     /Users/jorgelopez/nltk_data...\n",
      "[nltk_data]    |   Package kimmo is already up-to-date!\n",
      "[nltk_data]    | Downloading package knbc to\n",
      "[nltk_data]    |     /Users/jorgelopez/nltk_data...\n",
      "[nltk_data]    |   Package knbc is already up-to-date!\n",
      "[nltk_data]    | Downloading package large_grammars to\n",
      "[nltk_data]    |     /Users/jorgelopez/nltk_data...\n",
      "[nltk_data]    |   Package large_grammars is already up-to-date!\n",
      "[nltk_data]    | Downloading package lin_thesaurus to\n",
      "[nltk_data]    |     /Users/jorgelopez/nltk_data...\n",
      "[nltk_data]    |   Package lin_thesaurus is already up-to-date!\n",
      "[nltk_data]    | Downloading package mac_morpho to\n",
      "[nltk_data]    |     /Users/jorgelopez/nltk_data...\n",
      "[nltk_data]    |   Package mac_morpho is already up-to-date!\n",
      "[nltk_data]    | Downloading package machado to\n",
      "[nltk_data]    |     /Users/jorgelopez/nltk_data...\n",
      "[nltk_data]    |   Package machado is already up-to-date!\n",
      "[nltk_data]    | Downloading package masc_tagged to\n",
      "[nltk_data]    |     /Users/jorgelopez/nltk_data...\n",
      "[nltk_data]    |   Package masc_tagged is already up-to-date!\n",
      "[nltk_data]    | Downloading package maxent_ne_chunker to\n",
      "[nltk_data]    |     /Users/jorgelopez/nltk_data...\n",
      "[nltk_data]    |   Package maxent_ne_chunker is already up-to-date!\n",
      "[nltk_data]    | Downloading package maxent_treebank_pos_tagger to\n",
      "[nltk_data]    |     /Users/jorgelopez/nltk_data...\n",
      "[nltk_data]    |   Package maxent_treebank_pos_tagger is already up-\n",
      "[nltk_data]    |       to-date!\n",
      "[nltk_data]    | Downloading package moses_sample to\n",
      "[nltk_data]    |     /Users/jorgelopez/nltk_data...\n",
      "[nltk_data]    |   Package moses_sample is already up-to-date!\n",
      "[nltk_data]    | Downloading package movie_reviews to\n",
      "[nltk_data]    |     /Users/jorgelopez/nltk_data...\n",
      "[nltk_data]    |   Package movie_reviews is already up-to-date!\n",
      "[nltk_data]    | Downloading package mte_teip5 to\n",
      "[nltk_data]    |     /Users/jorgelopez/nltk_data...\n",
      "[nltk_data]    |   Package mte_teip5 is already up-to-date!\n",
      "[nltk_data]    | Downloading package mwa_ppdb to\n",
      "[nltk_data]    |     /Users/jorgelopez/nltk_data...\n"
     ]
    },
    {
     "name": "stderr",
     "output_type": "stream",
     "text": [
      "[nltk_data]    |   Package mwa_ppdb is already up-to-date!\n",
      "[nltk_data]    | Downloading package names to\n",
      "[nltk_data]    |     /Users/jorgelopez/nltk_data...\n",
      "[nltk_data]    |   Package names is already up-to-date!\n",
      "[nltk_data]    | Downloading package nombank.1.0 to\n",
      "[nltk_data]    |     /Users/jorgelopez/nltk_data...\n",
      "[nltk_data]    |   Package nombank.1.0 is already up-to-date!\n",
      "[nltk_data]    | Downloading package nonbreaking_prefixes to\n",
      "[nltk_data]    |     /Users/jorgelopez/nltk_data...\n",
      "[nltk_data]    |   Package nonbreaking_prefixes is already up-to-date!\n",
      "[nltk_data]    | Downloading package nps_chat to\n",
      "[nltk_data]    |     /Users/jorgelopez/nltk_data...\n",
      "[nltk_data]    |   Package nps_chat is already up-to-date!\n",
      "[nltk_data]    | Downloading package omw to\n",
      "[nltk_data]    |     /Users/jorgelopez/nltk_data...\n",
      "[nltk_data]    |   Package omw is already up-to-date!\n",
      "[nltk_data]    | Downloading package omw-1.4 to\n",
      "[nltk_data]    |     /Users/jorgelopez/nltk_data...\n",
      "[nltk_data]    |   Package omw-1.4 is already up-to-date!\n",
      "[nltk_data]    | Downloading package opinion_lexicon to\n",
      "[nltk_data]    |     /Users/jorgelopez/nltk_data...\n",
      "[nltk_data]    |   Package opinion_lexicon is already up-to-date!\n",
      "[nltk_data]    | Downloading package panlex_swadesh to\n",
      "[nltk_data]    |     /Users/jorgelopez/nltk_data...\n",
      "[nltk_data]    |   Package panlex_swadesh is already up-to-date!\n",
      "[nltk_data]    | Downloading package paradigms to\n",
      "[nltk_data]    |     /Users/jorgelopez/nltk_data...\n",
      "[nltk_data]    |   Package paradigms is already up-to-date!\n",
      "[nltk_data]    | Downloading package pe08 to\n",
      "[nltk_data]    |     /Users/jorgelopez/nltk_data...\n",
      "[nltk_data]    |   Package pe08 is already up-to-date!\n",
      "[nltk_data]    | Downloading package perluniprops to\n",
      "[nltk_data]    |     /Users/jorgelopez/nltk_data...\n",
      "[nltk_data]    |   Package perluniprops is already up-to-date!\n",
      "[nltk_data]    | Downloading package pil to\n",
      "[nltk_data]    |     /Users/jorgelopez/nltk_data...\n",
      "[nltk_data]    |   Package pil is already up-to-date!\n",
      "[nltk_data]    | Downloading package pl196x to\n",
      "[nltk_data]    |     /Users/jorgelopez/nltk_data...\n",
      "[nltk_data]    |   Package pl196x is already up-to-date!\n",
      "[nltk_data]    | Downloading package porter_test to\n",
      "[nltk_data]    |     /Users/jorgelopez/nltk_data...\n",
      "[nltk_data]    |   Package porter_test is already up-to-date!\n",
      "[nltk_data]    | Downloading package ppattach to\n",
      "[nltk_data]    |     /Users/jorgelopez/nltk_data...\n",
      "[nltk_data]    |   Package ppattach is already up-to-date!\n",
      "[nltk_data]    | Downloading package problem_reports to\n",
      "[nltk_data]    |     /Users/jorgelopez/nltk_data...\n",
      "[nltk_data]    |   Package problem_reports is already up-to-date!\n",
      "[nltk_data]    | Downloading package product_reviews_1 to\n",
      "[nltk_data]    |     /Users/jorgelopez/nltk_data...\n",
      "[nltk_data]    |   Package product_reviews_1 is already up-to-date!\n",
      "[nltk_data]    | Downloading package product_reviews_2 to\n",
      "[nltk_data]    |     /Users/jorgelopez/nltk_data...\n",
      "[nltk_data]    |   Package product_reviews_2 is already up-to-date!\n",
      "[nltk_data]    | Downloading package propbank to\n",
      "[nltk_data]    |     /Users/jorgelopez/nltk_data...\n",
      "[nltk_data]    |   Package propbank is already up-to-date!\n",
      "[nltk_data]    | Downloading package pros_cons to\n",
      "[nltk_data]    |     /Users/jorgelopez/nltk_data...\n",
      "[nltk_data]    |   Package pros_cons is already up-to-date!\n",
      "[nltk_data]    | Downloading package ptb to\n",
      "[nltk_data]    |     /Users/jorgelopez/nltk_data...\n",
      "[nltk_data]    |   Package ptb is already up-to-date!\n",
      "[nltk_data]    | Downloading package punkt to\n",
      "[nltk_data]    |     /Users/jorgelopez/nltk_data...\n",
      "[nltk_data]    |   Package punkt is already up-to-date!\n",
      "[nltk_data]    | Downloading package qc to\n",
      "[nltk_data]    |     /Users/jorgelopez/nltk_data...\n",
      "[nltk_data]    |   Package qc is already up-to-date!\n",
      "[nltk_data]    | Downloading package reuters to\n",
      "[nltk_data]    |     /Users/jorgelopez/nltk_data...\n",
      "[nltk_data]    |   Package reuters is already up-to-date!\n",
      "[nltk_data]    | Downloading package rslp to\n",
      "[nltk_data]    |     /Users/jorgelopez/nltk_data...\n",
      "[nltk_data]    |   Package rslp is already up-to-date!\n",
      "[nltk_data]    | Downloading package rte to\n",
      "[nltk_data]    |     /Users/jorgelopez/nltk_data...\n",
      "[nltk_data]    |   Package rte is already up-to-date!\n",
      "[nltk_data]    | Downloading package sample_grammars to\n",
      "[nltk_data]    |     /Users/jorgelopez/nltk_data...\n",
      "[nltk_data]    |   Package sample_grammars is already up-to-date!\n",
      "[nltk_data]    | Downloading package semcor to\n",
      "[nltk_data]    |     /Users/jorgelopez/nltk_data...\n",
      "[nltk_data]    |   Package semcor is already up-to-date!\n",
      "[nltk_data]    | Downloading package senseval to\n",
      "[nltk_data]    |     /Users/jorgelopez/nltk_data...\n",
      "[nltk_data]    |   Package senseval is already up-to-date!\n",
      "[nltk_data]    | Downloading package sentence_polarity to\n",
      "[nltk_data]    |     /Users/jorgelopez/nltk_data...\n",
      "[nltk_data]    |   Package sentence_polarity is already up-to-date!\n",
      "[nltk_data]    | Downloading package sentiwordnet to\n",
      "[nltk_data]    |     /Users/jorgelopez/nltk_data...\n",
      "[nltk_data]    |   Package sentiwordnet is already up-to-date!\n",
      "[nltk_data]    | Downloading package shakespeare to\n",
      "[nltk_data]    |     /Users/jorgelopez/nltk_data...\n",
      "[nltk_data]    |   Package shakespeare is already up-to-date!\n",
      "[nltk_data]    | Downloading package sinica_treebank to\n",
      "[nltk_data]    |     /Users/jorgelopez/nltk_data...\n",
      "[nltk_data]    |   Package sinica_treebank is already up-to-date!\n",
      "[nltk_data]    | Downloading package smultron to\n",
      "[nltk_data]    |     /Users/jorgelopez/nltk_data...\n",
      "[nltk_data]    |   Package smultron is already up-to-date!\n",
      "[nltk_data]    | Downloading package snowball_data to\n",
      "[nltk_data]    |     /Users/jorgelopez/nltk_data...\n",
      "[nltk_data]    |   Package snowball_data is already up-to-date!\n",
      "[nltk_data]    | Downloading package spanish_grammars to\n",
      "[nltk_data]    |     /Users/jorgelopez/nltk_data...\n",
      "[nltk_data]    |   Package spanish_grammars is already up-to-date!\n",
      "[nltk_data]    | Downloading package state_union to\n",
      "[nltk_data]    |     /Users/jorgelopez/nltk_data...\n",
      "[nltk_data]    |   Package state_union is already up-to-date!\n",
      "[nltk_data]    | Downloading package stopwords to\n",
      "[nltk_data]    |     /Users/jorgelopez/nltk_data...\n",
      "[nltk_data]    |   Package stopwords is already up-to-date!\n",
      "[nltk_data]    | Downloading package subjectivity to\n",
      "[nltk_data]    |     /Users/jorgelopez/nltk_data...\n",
      "[nltk_data]    |   Package subjectivity is already up-to-date!\n",
      "[nltk_data]    | Downloading package swadesh to\n",
      "[nltk_data]    |     /Users/jorgelopez/nltk_data...\n",
      "[nltk_data]    |   Package swadesh is already up-to-date!\n",
      "[nltk_data]    | Downloading package switchboard to\n",
      "[nltk_data]    |     /Users/jorgelopez/nltk_data...\n",
      "[nltk_data]    |   Package switchboard is already up-to-date!\n",
      "[nltk_data]    | Downloading package tagsets to\n",
      "[nltk_data]    |     /Users/jorgelopez/nltk_data...\n",
      "[nltk_data]    |   Package tagsets is already up-to-date!\n",
      "[nltk_data]    | Downloading package timit to\n",
      "[nltk_data]    |     /Users/jorgelopez/nltk_data...\n",
      "[nltk_data]    |   Package timit is already up-to-date!\n",
      "[nltk_data]    | Downloading package toolbox to\n",
      "[nltk_data]    |     /Users/jorgelopez/nltk_data...\n",
      "[nltk_data]    |   Package toolbox is already up-to-date!\n",
      "[nltk_data]    | Downloading package treebank to\n",
      "[nltk_data]    |     /Users/jorgelopez/nltk_data...\n",
      "[nltk_data]    |   Package treebank is already up-to-date!\n",
      "[nltk_data]    | Downloading package twitter_samples to\n",
      "[nltk_data]    |     /Users/jorgelopez/nltk_data...\n",
      "[nltk_data]    |   Package twitter_samples is already up-to-date!\n",
      "[nltk_data]    | Downloading package udhr to\n",
      "[nltk_data]    |     /Users/jorgelopez/nltk_data...\n",
      "[nltk_data]    |   Package udhr is already up-to-date!\n",
      "[nltk_data]    | Downloading package udhr2 to\n",
      "[nltk_data]    |     /Users/jorgelopez/nltk_data...\n",
      "[nltk_data]    |   Package udhr2 is already up-to-date!\n",
      "[nltk_data]    | Downloading package unicode_samples to\n",
      "[nltk_data]    |     /Users/jorgelopez/nltk_data...\n",
      "[nltk_data]    |   Package unicode_samples is already up-to-date!\n",
      "[nltk_data]    | Downloading package universal_tagset to\n",
      "[nltk_data]    |     /Users/jorgelopez/nltk_data...\n",
      "[nltk_data]    |   Package universal_tagset is already up-to-date!\n",
      "[nltk_data]    | Downloading package universal_treebanks_v20 to\n",
      "[nltk_data]    |     /Users/jorgelopez/nltk_data...\n",
      "[nltk_data]    |   Package universal_treebanks_v20 is already up-to-\n",
      "[nltk_data]    |       date!\n",
      "[nltk_data]    | Downloading package vader_lexicon to\n",
      "[nltk_data]    |     /Users/jorgelopez/nltk_data...\n",
      "[nltk_data]    |   Package vader_lexicon is already up-to-date!\n",
      "[nltk_data]    | Downloading package verbnet to\n",
      "[nltk_data]    |     /Users/jorgelopez/nltk_data...\n",
      "[nltk_data]    |   Package verbnet is already up-to-date!\n",
      "[nltk_data]    | Downloading package verbnet3 to\n",
      "[nltk_data]    |     /Users/jorgelopez/nltk_data...\n",
      "[nltk_data]    |   Package verbnet3 is already up-to-date!\n",
      "[nltk_data]    | Downloading package webtext to\n",
      "[nltk_data]    |     /Users/jorgelopez/nltk_data...\n",
      "[nltk_data]    |   Package webtext is already up-to-date!\n",
      "[nltk_data]    | Downloading package wmt15_eval to\n",
      "[nltk_data]    |     /Users/jorgelopez/nltk_data...\n",
      "[nltk_data]    |   Package wmt15_eval is already up-to-date!\n",
      "[nltk_data]    | Downloading package word2vec_sample to\n",
      "[nltk_data]    |     /Users/jorgelopez/nltk_data...\n"
     ]
    },
    {
     "name": "stderr",
     "output_type": "stream",
     "text": [
      "[nltk_data]    |   Package word2vec_sample is already up-to-date!\n",
      "[nltk_data]    | Downloading package wordnet to\n",
      "[nltk_data]    |     /Users/jorgelopez/nltk_data...\n",
      "[nltk_data]    |   Package wordnet is already up-to-date!\n",
      "[nltk_data]    | Downloading package wordnet2021 to\n",
      "[nltk_data]    |     /Users/jorgelopez/nltk_data...\n",
      "[nltk_data]    |   Package wordnet2021 is already up-to-date!\n",
      "[nltk_data]    | Downloading package wordnet2022 to\n",
      "[nltk_data]    |     /Users/jorgelopez/nltk_data...\n",
      "[nltk_data]    |   Package wordnet2022 is already up-to-date!\n",
      "[nltk_data]    | Downloading package wordnet31 to\n",
      "[nltk_data]    |     /Users/jorgelopez/nltk_data...\n",
      "[nltk_data]    |   Package wordnet31 is already up-to-date!\n",
      "[nltk_data]    | Downloading package wordnet_ic to\n",
      "[nltk_data]    |     /Users/jorgelopez/nltk_data...\n",
      "[nltk_data]    |   Package wordnet_ic is already up-to-date!\n",
      "[nltk_data]    | Downloading package words to\n",
      "[nltk_data]    |     /Users/jorgelopez/nltk_data...\n",
      "[nltk_data]    |   Package words is already up-to-date!\n",
      "[nltk_data]    | Downloading package ycoe to\n",
      "[nltk_data]    |     /Users/jorgelopez/nltk_data...\n",
      "[nltk_data]    |   Package ycoe is already up-to-date!\n",
      "[nltk_data]    | \n",
      "[nltk_data]  Done downloading collection all\n"
     ]
    },
    {
     "data": {
      "text/plain": [
       "True"
      ]
     },
     "execution_count": 13,
     "metadata": {},
     "output_type": "execute_result"
    }
   ],
   "source": [
    "nltk.download('all')"
   ]
  },
  {
   "cell_type": "code",
   "execution_count": 14,
   "id": "65b34e8d",
   "metadata": {},
   "outputs": [
    {
     "data": {
      "text/plain": [
       "<WordNetLemmatizer>"
      ]
     },
     "execution_count": 14,
     "metadata": {},
     "output_type": "execute_result"
    }
   ],
   "source": [
    "# lemmatize\n",
    "wnl = nltk.stem.WordNetLemmatizer()\n",
    "wnl"
   ]
  },
  {
   "cell_type": "code",
   "execution_count": 15,
   "id": "2f7fbb25",
   "metadata": {},
   "outputs": [
    {
     "data": {
      "text/plain": [
       "('calling', 'call', 'called', 'call')"
      ]
     },
     "execution_count": 15,
     "metadata": {},
     "output_type": "execute_result"
    }
   ],
   "source": [
    "wnl.lemmatize('calling'), wnl.lemmatize('calls'), wnl.lemmatize('called'), wnl.lemmatize('call')"
   ]
  },
  {
   "cell_type": "code",
   "execution_count": 16,
   "id": "6a09020a",
   "metadata": {},
   "outputs": [
    {
     "data": {
      "text/plain": [
       "('house', 'housing')"
      ]
     },
     "execution_count": 16,
     "metadata": {},
     "output_type": "execute_result"
    }
   ],
   "source": [
    "wnl.lemmatize('house'), wnl.lemmatize('housing')"
   ]
  },
  {
   "cell_type": "code",
   "execution_count": 17,
   "id": "b9e7ad18",
   "metadata": {},
   "outputs": [
    {
     "data": {
      "text/plain": [
       "('mouse', 'mouse')"
      ]
     },
     "execution_count": 17,
     "metadata": {},
     "output_type": "execute_result"
    }
   ],
   "source": [
    "wnl.lemmatize('mouse'), wnl.lemmatize('mice')"
   ]
  },
  {
   "cell_type": "code",
   "execution_count": 18,
   "id": "3a56a0dd",
   "metadata": {},
   "outputs": [
    {
     "data": {
      "text/plain": [
       "['i', 'me', 'my', 'myself', 'we', 'our', 'ours', 'ourselves', 'you', \"you're\"]"
      ]
     },
     "execution_count": 18,
     "metadata": {},
     "output_type": "execute_result"
    }
   ],
   "source": [
    "stopwords_english = stopwords.words('english')\n",
    "stopwords_english[0:10]"
   ]
  },
  {
   "cell_type": "code",
   "execution_count": 19,
   "id": "88edaff4",
   "metadata": {},
   "outputs": [
    {
     "data": {
      "text/plain": [
       "180"
      ]
     },
     "execution_count": 19,
     "metadata": {},
     "output_type": "execute_result"
    }
   ],
   "source": [
    "stopwords_english.append('o')\n",
    "len(stopwords_english)"
   ]
  },
  {
   "cell_type": "code",
   "execution_count": 20,
   "id": "ed105160",
   "metadata": {},
   "outputs": [
    {
     "data": {
      "text/plain": [
       "'paul erdos george polya influential hungarian mathematicians contributed lot field erdoss name contains hungarian letter double acute accent often incorrectly written erdos erdos either mistake typographical necessity'"
      ]
     },
     "execution_count": 20,
     "metadata": {},
     "output_type": "execute_result"
    }
   ],
   "source": [
    "original_with_stopwords_removed = [word for word in original if word not in stopwords_english]\n",
    "' '.join(original_with_stopwords_removed)"
   ]
  },
  {
   "cell_type": "markdown",
   "id": "abfc62ea",
   "metadata": {},
   "source": [
    "Define a function named basic_clean. It should take in a string and apply some basic text cleaning to it:  \n",
    "  \n",
    "Lowercase everything  \n",
    "Normalize unicode characters  \n",
    "Replace anything that is not a letter, number, whitespace or a single quote.  "
   ]
  },
  {
   "cell_type": "code",
   "execution_count": 41,
   "id": "b1f10c02",
   "metadata": {},
   "outputs": [],
   "source": [
    "def basic_clean(string):\n",
    "    string = string.lower()\n",
    "    string = unicodedata.normalize('NFKD', string).encode('ascii', 'ignore').decode('utf-8', 'ignore')\n",
    "    string = re.sub(r'[^a-z0-9\\s]', '', string)\n",
    "    \n",
    "    return string"
   ]
  },
  {
   "cell_type": "code",
   "execution_count": 22,
   "id": "c9514cde",
   "metadata": {},
   "outputs": [
    {
     "data": {
      "text/plain": [
       "'the cat and the dog went to the store and got some milk'"
      ]
     },
     "execution_count": 22,
     "metadata": {},
     "output_type": "execute_result"
    }
   ],
   "source": [
    "string = 'The cat aNd the dog wEnt to the $store and got some MILK!'\n",
    "basic_clean(string)"
   ]
  },
  {
   "cell_type": "markdown",
   "id": "7f97346d",
   "metadata": {},
   "source": [
    "Define a function named tokenize. It should take in a string and tokenize all the words in the string."
   ]
  },
  {
   "cell_type": "code",
   "execution_count": 39,
   "id": "a886d86b",
   "metadata": {},
   "outputs": [],
   "source": [
    "def tokenize(string):\n",
    "    tokenize = nltk.tokenize.ToktokTokenizer()\n",
    "    string = tokenize.tokenize(string, return_str = True)\n",
    "    \n",
    "    return string"
   ]
  },
  {
   "cell_type": "code",
   "execution_count": 40,
   "id": "e34f29fb",
   "metadata": {},
   "outputs": [
    {
     "data": {
      "text/plain": [
       "'the dog went over to the cat and said hi'"
      ]
     },
     "execution_count": 40,
     "metadata": {},
     "output_type": "execute_result"
    }
   ],
   "source": [
    "string = 'the dog went over to the cat and said hi'\n",
    "tokenize(string)"
   ]
  },
  {
   "cell_type": "markdown",
   "id": "ff0bed5a",
   "metadata": {},
   "source": [
    "Define a function named stem. It should accept some text and return the text after applying stemming to all the words."
   ]
  },
  {
   "cell_type": "code",
   "execution_count": 25,
   "id": "5f3f8599",
   "metadata": {},
   "outputs": [],
   "source": [
    "def stem(text1, text2, text3):\n",
    "    ps = nltk.porter.PorterStemmer()\n",
    "    ps.stem(text1), ps.stem(text2), ps.stem(text3)\n",
    "    \n",
    "    return text1, text2, text3"
   ]
  },
  {
   "cell_type": "code",
   "execution_count": 26,
   "id": "ac2a2a3a",
   "metadata": {},
   "outputs": [],
   "source": [
    "def stem(string):\n",
    "    '''\n",
    "    This function takes in a string and\n",
    "    returns a string with words stemmed.\n",
    "    '''\n",
    "    # create our stemming object\n",
    "    ps = nltk.porter.PorterStemmer()\n",
    "    # use a list comprehension => stem each word for each word inside of the entire document,\n",
    "    # split by the default, which are single spaces\n",
    "    stems = [ps.stem(word) for word in string.split()]\n",
    "    # glue it back together with spaces, as it was before\n",
    "    string = ' '.join(stems)\n",
    "    \n",
    "    return string"
   ]
  },
  {
   "cell_type": "code",
   "execution_count": 27,
   "id": "d19849d9",
   "metadata": {},
   "outputs": [
    {
     "data": {
      "text/plain": [
       "'baller, balling, ball'"
      ]
     },
     "execution_count": 27,
     "metadata": {},
     "output_type": "execute_result"
    }
   ],
   "source": [
    "stem('baller, balling, balls')"
   ]
  },
  {
   "cell_type": "markdown",
   "id": "7902ef55",
   "metadata": {},
   "source": [
    "Define a function named lemmatize. It should accept some text and return the text after applying lemmatization to each word."
   ]
  },
  {
   "cell_type": "code",
   "execution_count": 28,
   "id": "bf661038",
   "metadata": {},
   "outputs": [],
   "source": [
    "def lemmatize(string):\n",
    "    '''\n",
    "    This function takes in string for and\n",
    "    returns a string with words lemmatized.\n",
    "    '''\n",
    "    # create our lemmatizer object\n",
    "    wnl = nltk.stem.WordNetLemmatizer()\n",
    "    # use a list comprehension to lemmatize each word\n",
    "    # string.split() => output a list of every token inside of the document\n",
    "    lemmas = [wnl.lemmatize(word) for word in string.split()]\n",
    "    # glue the lemmas back together by the strings we split on\n",
    "    string = ' '.join(lemmas)\n",
    "    #return the altered document\n",
    "    return string"
   ]
  },
  {
   "cell_type": "code",
   "execution_count": 29,
   "id": "0a84820e",
   "metadata": {},
   "outputs": [
    {
     "data": {
      "text/plain": [
       "'shawn, shawning, shawn'"
      ]
     },
     "execution_count": 29,
     "metadata": {},
     "output_type": "execute_result"
    }
   ],
   "source": [
    "lemmatize('shawn, shawning, shawns')"
   ]
  },
  {
   "cell_type": "markdown",
   "id": "5aafdc96",
   "metadata": {},
   "source": [
    "Define a function named remove_stopwords. It should accept some text and return the text after removing all the stopwords.  \n",
    "  \n",
    "This function should define two optional parameters, extra_words and exclude_words. These parameters should define any additional stop words to include, and any words that we don't want to remove."
   ]
  },
  {
   "cell_type": "code",
   "execution_count": 30,
   "id": "4cb8f4b4",
   "metadata": {},
   "outputs": [],
   "source": [
    "def remove_stopwords(text):\n",
    "    stopwords_english = stopwords.words('english')\n",
    "    new_text = [word for word in text if word not in stopwords_english]\n",
    "    \n",
    "    return new_text"
   ]
  },
  {
   "cell_type": "code",
   "execution_count": 31,
   "id": "249cc1f7",
   "metadata": {},
   "outputs": [],
   "source": [
    "def remove_stopwords(string, extra_words = [], exclude_words = []):\n",
    "    '''\n",
    "    This function takes in a string, optional extra_words and exclude_words parameters\n",
    "    with default empty lists and returns a string.\n",
    "    '''\n",
    "    # assign our stopwords from nltk into stopword_list\n",
    "    stopword_list = stopwords.words('english')\n",
    "    # utilizing set casting, i will remove any excluded stopwords\n",
    "    stopword_list = set(stopword_list) - set(exclude_words)\n",
    "    # add in any extra words to my stopwords set using a union\n",
    "    stopword_list = stopword_list.union(set(extra_words))\n",
    "    # split our document by spaces\n",
    "    words = string.split()\n",
    "    # every word in our document, as long as that word is not in our stopwords\n",
    "    filtered_words = [word for word in words if word not in stopword_list]\n",
    "    # glue it back together with spaces, as it was so it shall be\n",
    "    string_without_stopwords = ' '.join(filtered_words)\n",
    "    # return the document back\n",
    "    return string_without_stopwords"
   ]
  },
  {
   "cell_type": "markdown",
   "id": "3e713b6d",
   "metadata": {},
   "source": [
    "Use your data from the acquire to produce a dataframe of the news articles. Name the dataframe news_df."
   ]
  },
  {
   "cell_type": "code",
   "execution_count": 32,
   "id": "397b6551",
   "metadata": {},
   "outputs": [
    {
     "data": {
      "text/plain": [
       "{'category': 'business',\n",
       " 'title': 'Bill Gates meets Ratan Tata, N Chandrasekaran; pics surface',\n",
       " 'content': 'Microsoft Co-founder Bill Gates met with Tata Sons Chairman Emeritus Ratan Tata and Tata Sons Chairman Natarajan Chandrasekaran. \"Bill had an enriching discussion with Ratan Tata and N Chandrasekaran about their philanthropic initiatives,\" Gates Foundation India said in a tweet. \"We look forward to strengthening our work together & partnering for health, diagnostics, and nutrition,\" it added.'}"
      ]
     },
     "execution_count": 32,
     "metadata": {},
     "output_type": "execute_result"
    }
   ],
   "source": [
    "#Test my function on the business page\n",
    "business_test = a.scrape_one_page('business')\n",
    "business_test[0]"
   ]
  },
  {
   "cell_type": "code",
   "execution_count": 33,
   "id": "fb8d09fd",
   "metadata": {},
   "outputs": [
    {
     "data": {
      "text/plain": [
       "{'category': 'business',\n",
       " 'title': 'All Adani stocks end higher for the first time since Hindenburg report',\n",
       " 'content': 'All 10 Adani Group stocks closed higher on Wednesday, the first such occurrence since the report by US short-seller Hindenburg Research in late January that accused the group of fraud. Adani Enterprises led the rally, advancing almost 15% as the group conducted investor meetings in Singapore and Hong Kong. Adani Transmission and Adani Power rose by the 5% daily limit.'}"
      ]
     },
     "execution_count": 33,
     "metadata": {},
     "output_type": "execute_result"
    }
   ],
   "source": [
    "#Test my function!\n",
    "topics = ['business', 'sports', 'technology', 'entertainment']\n",
    "\n",
    "news_df = a.get_news_articles(topics)\n",
    "news_df[0]"
   ]
  },
  {
   "cell_type": "code",
   "execution_count": 34,
   "id": "6f22db63",
   "metadata": {},
   "outputs": [],
   "source": [
    "news_df = pd.DataFrame(a.get_news_articles(topics))"
   ]
  },
  {
   "cell_type": "code",
   "execution_count": 35,
   "id": "a215116b",
   "metadata": {},
   "outputs": [
    {
     "data": {
      "text/html": [
       "<div>\n",
       "<style scoped>\n",
       "    .dataframe tbody tr th:only-of-type {\n",
       "        vertical-align: middle;\n",
       "    }\n",
       "\n",
       "    .dataframe tbody tr th {\n",
       "        vertical-align: top;\n",
       "    }\n",
       "\n",
       "    .dataframe thead th {\n",
       "        text-align: right;\n",
       "    }\n",
       "</style>\n",
       "<table border=\"1\" class=\"dataframe\">\n",
       "  <thead>\n",
       "    <tr style=\"text-align: right;\">\n",
       "      <th></th>\n",
       "      <th>category</th>\n",
       "      <th>title</th>\n",
       "      <th>content</th>\n",
       "    </tr>\n",
       "  </thead>\n",
       "  <tbody>\n",
       "    <tr>\n",
       "      <th>0</th>\n",
       "      <td>business</td>\n",
       "      <td>All Adani stocks end higher for the first time...</td>\n",
       "      <td>All 10 Adani Group stocks closed higher on Wed...</td>\n",
       "    </tr>\n",
       "    <tr>\n",
       "      <th>1</th>\n",
       "      <td>business</td>\n",
       "      <td>Bill Gates meets Ratan Tata, N Chandrasekaran;...</td>\n",
       "      <td>Microsoft Co-founder Bill Gates met with Tata ...</td>\n",
       "    </tr>\n",
       "    <tr>\n",
       "      <th>2</th>\n",
       "      <td>business</td>\n",
       "      <td>SoftBank sells shares worth ₹954 crore in logi...</td>\n",
       "      <td>SoftBank sold shares worth ₹954 crore in logis...</td>\n",
       "    </tr>\n",
       "    <tr>\n",
       "      <th>3</th>\n",
       "      <td>business</td>\n",
       "      <td>Smriti Irani's 2011 tweet on LPG price hike re...</td>\n",
       "      <td>Hours after the central government raised the ...</td>\n",
       "    </tr>\n",
       "    <tr>\n",
       "      <th>4</th>\n",
       "      <td>business</td>\n",
       "      <td>Indian-Americans Renjen, Subramaniam to be mem...</td>\n",
       "      <td>Indian-Americans Punit Renjen and Rajesh Subra...</td>\n",
       "    </tr>\n",
       "    <tr>\n",
       "      <th>...</th>\n",
       "      <td>...</td>\n",
       "      <td>...</td>\n",
       "      <td>...</td>\n",
       "    </tr>\n",
       "    <tr>\n",
       "      <th>95</th>\n",
       "      <td>entertainment</td>\n",
       "      <td>I relived my battle: Sagarika on Rani's 'Mrs C...</td>\n",
       "      <td>Sagarika Chatterjee, whose life inspired Rani ...</td>\n",
       "    </tr>\n",
       "    <tr>\n",
       "      <th>96</th>\n",
       "      <td>entertainment</td>\n",
       "      <td>Diagnosed with Influenza B, staying away from ...</td>\n",
       "      <td>Actress Debina Bonnerjee took to Instagram Sto...</td>\n",
       "    </tr>\n",
       "    <tr>\n",
       "      <th>97</th>\n",
       "      <td>entertainment</td>\n",
       "      <td>Broke my heart, we didn't do justice: Shahid o...</td>\n",
       "      <td>Actor Shahid Kapoor said the failure of his fi...</td>\n",
       "    </tr>\n",
       "    <tr>\n",
       "      <th>98</th>\n",
       "      <td>entertainment</td>\n",
       "      <td>It takes guts: Rajatava on Akshay accepting fa...</td>\n",
       "      <td>Bengali actor Rajatava Dutta praised Akshay Ku...</td>\n",
       "    </tr>\n",
       "    <tr>\n",
       "      <th>99</th>\n",
       "      <td>entertainment</td>\n",
       "      <td>We'd end up matching clothes without planning:...</td>\n",
       "      <td>Speaking about the similarities that she found...</td>\n",
       "    </tr>\n",
       "  </tbody>\n",
       "</table>\n",
       "<p>100 rows × 3 columns</p>\n",
       "</div>"
      ],
      "text/plain": [
       "         category                                              title  \\\n",
       "0        business  All Adani stocks end higher for the first time...   \n",
       "1        business  Bill Gates meets Ratan Tata, N Chandrasekaran;...   \n",
       "2        business  SoftBank sells shares worth ₹954 crore in logi...   \n",
       "3        business  Smriti Irani's 2011 tweet on LPG price hike re...   \n",
       "4        business  Indian-Americans Renjen, Subramaniam to be mem...   \n",
       "..            ...                                                ...   \n",
       "95  entertainment  I relived my battle: Sagarika on Rani's 'Mrs C...   \n",
       "96  entertainment  Diagnosed with Influenza B, staying away from ...   \n",
       "97  entertainment  Broke my heart, we didn't do justice: Shahid o...   \n",
       "98  entertainment  It takes guts: Rajatava on Akshay accepting fa...   \n",
       "99  entertainment  We'd end up matching clothes without planning:...   \n",
       "\n",
       "                                              content  \n",
       "0   All 10 Adani Group stocks closed higher on Wed...  \n",
       "1   Microsoft Co-founder Bill Gates met with Tata ...  \n",
       "2   SoftBank sold shares worth ₹954 crore in logis...  \n",
       "3   Hours after the central government raised the ...  \n",
       "4   Indian-Americans Punit Renjen and Rajesh Subra...  \n",
       "..                                                ...  \n",
       "95  Sagarika Chatterjee, whose life inspired Rani ...  \n",
       "96  Actress Debina Bonnerjee took to Instagram Sto...  \n",
       "97  Actor Shahid Kapoor said the failure of his fi...  \n",
       "98  Bengali actor Rajatava Dutta praised Akshay Ku...  \n",
       "99  Speaking about the similarities that she found...  \n",
       "\n",
       "[100 rows x 3 columns]"
      ]
     },
     "execution_count": 35,
     "metadata": {},
     "output_type": "execute_result"
    }
   ],
   "source": [
    "news_df"
   ]
  },
  {
   "cell_type": "markdown",
   "id": "7def81de",
   "metadata": {},
   "source": [
    "Make another dataframe for the Codeup blog posts. Name the dataframe codeup_df."
   ]
  },
  {
   "cell_type": "code",
   "execution_count": 36,
   "id": "6053c443",
   "metadata": {},
   "outputs": [],
   "source": [
    "codeup_df = pd.DataFrame(a.get_blog_articles('blog_posts.json'))"
   ]
  },
  {
   "cell_type": "code",
   "execution_count": 37,
   "id": "00a66a80",
   "metadata": {},
   "outputs": [
    {
     "data": {
      "text/html": [
       "<div>\n",
       "<style scoped>\n",
       "    .dataframe tbody tr th:only-of-type {\n",
       "        vertical-align: middle;\n",
       "    }\n",
       "\n",
       "    .dataframe tbody tr th {\n",
       "        vertical-align: top;\n",
       "    }\n",
       "\n",
       "    .dataframe thead th {\n",
       "        text-align: right;\n",
       "    }\n",
       "</style>\n",
       "<table border=\"1\" class=\"dataframe\">\n",
       "  <thead>\n",
       "    <tr style=\"text-align: right;\">\n",
       "      <th></th>\n",
       "      <th>title</th>\n",
       "      <th>link</th>\n",
       "      <th>date_published</th>\n",
       "      <th>content</th>\n",
       "    </tr>\n",
       "  </thead>\n",
       "  <tbody>\n",
       "    <tr>\n",
       "      <th>0</th>\n",
       "      <td>Black Excellence in Tech: Panelist Spotlight –...</td>\n",
       "      <td>https://inshorts.com/en/read/business/</td>\n",
       "      <td>Feb 16, 2023</td>\n",
       "      <td>\\nBlack excellence in tech: Panelist Spotlight...</td>\n",
       "    </tr>\n",
       "    <tr>\n",
       "      <th>1</th>\n",
       "      <td>Black excellence in tech: Panelist Spotlight –...</td>\n",
       "      <td>https://inshorts.com/en/read/business/</td>\n",
       "      <td>Feb 13, 2023</td>\n",
       "      <td>\\nBlack excellence in tech: Panelist Spotlight...</td>\n",
       "    </tr>\n",
       "    <tr>\n",
       "      <th>2</th>\n",
       "      <td>Black excellence in tech: Panelist Spotlight –...</td>\n",
       "      <td>https://inshorts.com/en/read/business/</td>\n",
       "      <td>Feb 10, 2023</td>\n",
       "      <td>\\nBlack excellence in tech: Panelist Spotlight...</td>\n",
       "    </tr>\n",
       "    <tr>\n",
       "      <th>3</th>\n",
       "      <td>Black excellence in tech: Panelist Spotlight –...</td>\n",
       "      <td>https://inshorts.com/en/read/business/</td>\n",
       "      <td>Feb 6, 2023</td>\n",
       "      <td>\\nBlack excellence in tech: Panelist Spotlight...</td>\n",
       "    </tr>\n",
       "    <tr>\n",
       "      <th>4</th>\n",
       "      <td>Coding Bootcamp or Self-Learning? Which is Bes...</td>\n",
       "      <td>https://inshorts.com/en/read/business/</td>\n",
       "      <td>Jan 20, 2023</td>\n",
       "      <td>\\nIf you’re interested in embarking on a caree...</td>\n",
       "    </tr>\n",
       "    <tr>\n",
       "      <th>5</th>\n",
       "      <td>Codeup Among Top 58 Best Coding Bootcamps of 2023</td>\n",
       "      <td>https://inshorts.com/en/read/business/</td>\n",
       "      <td>Jan 12, 2023</td>\n",
       "      <td>\\nCodeup is pleased to announce we have been r...</td>\n",
       "    </tr>\n",
       "  </tbody>\n",
       "</table>\n",
       "</div>"
      ],
      "text/plain": [
       "                                               title  \\\n",
       "0  Black Excellence in Tech: Panelist Spotlight –...   \n",
       "1  Black excellence in tech: Panelist Spotlight –...   \n",
       "2  Black excellence in tech: Panelist Spotlight –...   \n",
       "3  Black excellence in tech: Panelist Spotlight –...   \n",
       "4  Coding Bootcamp or Self-Learning? Which is Bes...   \n",
       "5  Codeup Among Top 58 Best Coding Bootcamps of 2023   \n",
       "\n",
       "                                     link date_published  \\\n",
       "0  https://inshorts.com/en/read/business/   Feb 16, 2023   \n",
       "1  https://inshorts.com/en/read/business/   Feb 13, 2023   \n",
       "2  https://inshorts.com/en/read/business/   Feb 10, 2023   \n",
       "3  https://inshorts.com/en/read/business/    Feb 6, 2023   \n",
       "4  https://inshorts.com/en/read/business/   Jan 20, 2023   \n",
       "5  https://inshorts.com/en/read/business/   Jan 12, 2023   \n",
       "\n",
       "                                             content  \n",
       "0  \\nBlack excellence in tech: Panelist Spotlight...  \n",
       "1  \\nBlack excellence in tech: Panelist Spotlight...  \n",
       "2  \\nBlack excellence in tech: Panelist Spotlight...  \n",
       "3  \\nBlack excellence in tech: Panelist Spotlight...  \n",
       "4  \\nIf you’re interested in embarking on a caree...  \n",
       "5  \\nCodeup is pleased to announce we have been r...  "
      ]
     },
     "execution_count": 37,
     "metadata": {},
     "output_type": "execute_result"
    }
   ],
   "source": [
    "codeup_df"
   ]
  },
  {
   "cell_type": "markdown",
   "id": "3251f926",
   "metadata": {},
   "source": [
    "For each dataframe, produce the following columns:  \n",
    "  \n",
    "- title to hold the title\n",
    "- original to hold the original article/post content\n",
    "- clean to hold the normalized and tokenized original with the stopwords removed.\n",
    "- stemmed to hold the stemmed version of the cleaned data.\n",
    "- lemmatized to hold the lemmatized version of the cleaned data.\n"
   ]
  },
  {
   "cell_type": "code",
   "execution_count": 43,
   "id": "c9166dc6",
   "metadata": {},
   "outputs": [
    {
     "data": {
      "text/plain": [
       "0     10 adani group stock closed higher wednesday f...\n",
       "1     microsoft cofounder bill gate met tata son cha...\n",
       "2     softbank sold share worth 954 crore logistics ...\n",
       "3     hour central government raised price commercia...\n",
       "4     indianamericans punit renjen rajesh subramania...\n",
       "                            ...                        \n",
       "95    sagarika chatterjee whose life inspired rani m...\n",
       "96    actress debina bonnerjee took instagram story ...\n",
       "97    actor shahid kapoor said failure film jersey b...\n",
       "98    bengali actor rajatava dutta praised akshay ku...\n",
       "99    speaking similarity found husband rj anmol met...\n",
       "Name: content, Length: 100, dtype: object"
      ]
     },
     "execution_count": 43,
     "metadata": {},
     "output_type": "execute_result"
    }
   ],
   "source": [
    "news_df['content'].apply(basic_clean).apply(tokenize).apply(lemmatize).apply(remove_stopwords)"
   ]
  },
  {
   "cell_type": "code",
   "execution_count": 45,
   "id": "3e811052",
   "metadata": {},
   "outputs": [],
   "source": [
    "################################ PREP ARTICLES ################################\n",
    "\n",
    "#take dataframe, specify the column, extra and exclude words\n",
    "def prep_article_data(df, column, extra_words=[], exclude_words=[]):\n",
    "    '''\n",
    "    This function take in a df and the string name for a text column with \n",
    "    option to pass lists for extra_words and exclude_words and\n",
    "    returns a df with the text article title, original text, stemmed text,\n",
    "    lemmatized text, cleaned, tokenized, & lemmatized text with stopwords removed.\n",
    "    '''\n",
    "    #original text from content column\n",
    "    df['original'] = df['content']\n",
    "    \n",
    "    #chain together clean, tokenize, remove stopwords\n",
    "    df['clean'] = df[column].apply(basic_clean)\\\n",
    "                            .apply(tokenize)\\\n",
    "                            .apply(remove_stopwords, \n",
    "                                   extra_words=extra_words, \n",
    "                                   exclude_words=exclude_words)\n",
    "    \n",
    "    #chain clean, tokenize, stem, remove stopwords\n",
    "    df['stemmed'] = df['clean'].apply(stem)\n",
    "    \n",
    "    #clean clean, tokenize, lemmatize, remove stopwords\n",
    "    df['lemmatized'] = df['clean'].apply(lemmatize)\n",
    "    \n",
    "    return df[['title', 'original', 'clean', 'stemmed', 'lemmatized']]"
   ]
  },
  {
   "cell_type": "code",
   "execution_count": 46,
   "id": "87cceb21",
   "metadata": {},
   "outputs": [
    {
     "data": {
      "text/html": [
       "<div>\n",
       "<style scoped>\n",
       "    .dataframe tbody tr th:only-of-type {\n",
       "        vertical-align: middle;\n",
       "    }\n",
       "\n",
       "    .dataframe tbody tr th {\n",
       "        vertical-align: top;\n",
       "    }\n",
       "\n",
       "    .dataframe thead th {\n",
       "        text-align: right;\n",
       "    }\n",
       "</style>\n",
       "<table border=\"1\" class=\"dataframe\">\n",
       "  <thead>\n",
       "    <tr style=\"text-align: right;\">\n",
       "      <th></th>\n",
       "      <th>title</th>\n",
       "      <th>original</th>\n",
       "      <th>clean</th>\n",
       "      <th>stemmed</th>\n",
       "      <th>lemmatized</th>\n",
       "    </tr>\n",
       "  </thead>\n",
       "  <tbody>\n",
       "    <tr>\n",
       "      <th>0</th>\n",
       "      <td>All Adani stocks end higher for the first time...</td>\n",
       "      <td>All 10 Adani Group stocks closed higher on Wed...</td>\n",
       "      <td>10 adani group stocks closed higher wednesday ...</td>\n",
       "      <td>10 adani group stock close higher wednesday fi...</td>\n",
       "      <td>10 adani group stock closed higher wednesday f...</td>\n",
       "    </tr>\n",
       "    <tr>\n",
       "      <th>1</th>\n",
       "      <td>Bill Gates meets Ratan Tata, N Chandrasekaran;...</td>\n",
       "      <td>Microsoft Co-founder Bill Gates met with Tata ...</td>\n",
       "      <td>microsoft cofounder bill gates met tata sons c...</td>\n",
       "      <td>microsoft cofound bill gate met tata son chair...</td>\n",
       "      <td>microsoft cofounder bill gate met tata son cha...</td>\n",
       "    </tr>\n",
       "    <tr>\n",
       "      <th>2</th>\n",
       "      <td>SoftBank sells shares worth ₹954 crore in logi...</td>\n",
       "      <td>SoftBank sold shares worth ₹954 crore in logis...</td>\n",
       "      <td>softbank sold shares worth 954 crore logistics...</td>\n",
       "      <td>softbank sold share worth 954 crore logist com...</td>\n",
       "      <td>softbank sold share worth 954 crore logistics ...</td>\n",
       "    </tr>\n",
       "    <tr>\n",
       "      <th>3</th>\n",
       "      <td>Smriti Irani's 2011 tweet on LPG price hike re...</td>\n",
       "      <td>Hours after the central government raised the ...</td>\n",
       "      <td>hours central government raised price commerci...</td>\n",
       "      <td>hour central govern rais price commerci lpg cy...</td>\n",
       "      <td>hour central government raised price commercia...</td>\n",
       "    </tr>\n",
       "    <tr>\n",
       "      <th>4</th>\n",
       "      <td>Indian-Americans Renjen, Subramaniam to be mem...</td>\n",
       "      <td>Indian-Americans Punit Renjen and Rajesh Subra...</td>\n",
       "      <td>indianamericans punit renjen rajesh subramania...</td>\n",
       "      <td>indianamerican punit renjen rajesh subramaniam...</td>\n",
       "      <td>indianamericans punit renjen rajesh subramania...</td>\n",
       "    </tr>\n",
       "  </tbody>\n",
       "</table>\n",
       "</div>"
      ],
      "text/plain": [
       "                                               title  \\\n",
       "0  All Adani stocks end higher for the first time...   \n",
       "1  Bill Gates meets Ratan Tata, N Chandrasekaran;...   \n",
       "2  SoftBank sells shares worth ₹954 crore in logi...   \n",
       "3  Smriti Irani's 2011 tweet on LPG price hike re...   \n",
       "4  Indian-Americans Renjen, Subramaniam to be mem...   \n",
       "\n",
       "                                            original  \\\n",
       "0  All 10 Adani Group stocks closed higher on Wed...   \n",
       "1  Microsoft Co-founder Bill Gates met with Tata ...   \n",
       "2  SoftBank sold shares worth ₹954 crore in logis...   \n",
       "3  Hours after the central government raised the ...   \n",
       "4  Indian-Americans Punit Renjen and Rajesh Subra...   \n",
       "\n",
       "                                               clean  \\\n",
       "0  10 adani group stocks closed higher wednesday ...   \n",
       "1  microsoft cofounder bill gates met tata sons c...   \n",
       "2  softbank sold shares worth 954 crore logistics...   \n",
       "3  hours central government raised price commerci...   \n",
       "4  indianamericans punit renjen rajesh subramania...   \n",
       "\n",
       "                                             stemmed  \\\n",
       "0  10 adani group stock close higher wednesday fi...   \n",
       "1  microsoft cofound bill gate met tata son chair...   \n",
       "2  softbank sold share worth 954 crore logist com...   \n",
       "3  hour central govern rais price commerci lpg cy...   \n",
       "4  indianamerican punit renjen rajesh subramaniam...   \n",
       "\n",
       "                                          lemmatized  \n",
       "0  10 adani group stock closed higher wednesday f...  \n",
       "1  microsoft cofounder bill gate met tata son cha...  \n",
       "2  softbank sold share worth 954 crore logistics ...  \n",
       "3  hour central government raised price commercia...  \n",
       "4  indianamericans punit renjen rajesh subramania...  "
      ]
     },
     "execution_count": 46,
     "metadata": {},
     "output_type": "execute_result"
    }
   ],
   "source": [
    "#assign variable to our new prepped dataframe\n",
    "prep_news = prep_article_data(news_df, 'content', extra_words =[], exclude_words=[])\n",
    "\n",
    "#take a look\n",
    "prep_news.head(5)"
   ]
  },
  {
   "cell_type": "code",
   "execution_count": 47,
   "id": "a6df6a7a",
   "metadata": {},
   "outputs": [
    {
     "data": {
      "text/plain": [
       "title         Bill Gates meets Ratan Tata, N Chandrasekaran;...\n",
       "original      Microsoft Co-founder Bill Gates met with Tata ...\n",
       "clean         microsoft cofounder bill gates met tata sons c...\n",
       "stemmed       microsoft cofound bill gate met tata son chair...\n",
       "lemmatized    microsoft cofounder bill gate met tata son cha...\n",
       "Name: 1, dtype: object"
      ]
     },
     "execution_count": 47,
     "metadata": {},
     "output_type": "execute_result"
    }
   ],
   "source": [
    "#take a look at one article\n",
    "prep_news.iloc[1]"
   ]
  },
  {
   "cell_type": "code",
   "execution_count": 48,
   "id": "801d0895",
   "metadata": {},
   "outputs": [
    {
     "data": {
      "text/html": [
       "<div>\n",
       "<style scoped>\n",
       "    .dataframe tbody tr th:only-of-type {\n",
       "        vertical-align: middle;\n",
       "    }\n",
       "\n",
       "    .dataframe tbody tr th {\n",
       "        vertical-align: top;\n",
       "    }\n",
       "\n",
       "    .dataframe thead th {\n",
       "        text-align: right;\n",
       "    }\n",
       "</style>\n",
       "<table border=\"1\" class=\"dataframe\">\n",
       "  <thead>\n",
       "    <tr style=\"text-align: right;\">\n",
       "      <th></th>\n",
       "      <th>title</th>\n",
       "      <th>original</th>\n",
       "      <th>clean</th>\n",
       "      <th>stemmed</th>\n",
       "      <th>lemmatized</th>\n",
       "    </tr>\n",
       "  </thead>\n",
       "  <tbody>\n",
       "    <tr>\n",
       "      <th>0</th>\n",
       "      <td>Black Excellence in Tech: Panelist Spotlight –...</td>\n",
       "      <td>\\nBlack excellence in tech: Panelist Spotlight...</td>\n",
       "      <td>black excellence tech panelist spotlight wilma...</td>\n",
       "      <td>black excel tech panelist spotlight wilmari de...</td>\n",
       "      <td>black excellence tech panelist spotlight wilma...</td>\n",
       "    </tr>\n",
       "    <tr>\n",
       "      <th>1</th>\n",
       "      <td>Black excellence in tech: Panelist Spotlight –...</td>\n",
       "      <td>\\nBlack excellence in tech: Panelist Spotlight...</td>\n",
       "      <td>black excellence tech panelist spotlight steph...</td>\n",
       "      <td>black excel tech panelist spotlight stephani j...</td>\n",
       "      <td>black excellence tech panelist spotlight steph...</td>\n",
       "    </tr>\n",
       "    <tr>\n",
       "      <th>2</th>\n",
       "      <td>Black excellence in tech: Panelist Spotlight –...</td>\n",
       "      <td>\\nBlack excellence in tech: Panelist Spotlight...</td>\n",
       "      <td>black excellence tech panelist spotlight james...</td>\n",
       "      <td>black excel tech panelist spotlight jame coope...</td>\n",
       "      <td>black excellence tech panelist spotlight james...</td>\n",
       "    </tr>\n",
       "    <tr>\n",
       "      <th>3</th>\n",
       "      <td>Black excellence in tech: Panelist Spotlight –...</td>\n",
       "      <td>\\nBlack excellence in tech: Panelist Spotlight...</td>\n",
       "      <td>black excellence tech panelist spotlight jeani...</td>\n",
       "      <td>black excel tech panelist spotlight jeanic fre...</td>\n",
       "      <td>black excellence tech panelist spotlight jeani...</td>\n",
       "    </tr>\n",
       "    <tr>\n",
       "      <th>4</th>\n",
       "      <td>Coding Bootcamp or Self-Learning? Which is Bes...</td>\n",
       "      <td>\\nIf you’re interested in embarking on a caree...</td>\n",
       "      <td>youre interested embarking career tech likely ...</td>\n",
       "      <td>your interest embark career tech like taken lo...</td>\n",
       "      <td>youre interested embarking career tech likely ...</td>\n",
       "    </tr>\n",
       "  </tbody>\n",
       "</table>\n",
       "</div>"
      ],
      "text/plain": [
       "                                               title  \\\n",
       "0  Black Excellence in Tech: Panelist Spotlight –...   \n",
       "1  Black excellence in tech: Panelist Spotlight –...   \n",
       "2  Black excellence in tech: Panelist Spotlight –...   \n",
       "3  Black excellence in tech: Panelist Spotlight –...   \n",
       "4  Coding Bootcamp or Self-Learning? Which is Bes...   \n",
       "\n",
       "                                            original  \\\n",
       "0  \\nBlack excellence in tech: Panelist Spotlight...   \n",
       "1  \\nBlack excellence in tech: Panelist Spotlight...   \n",
       "2  \\nBlack excellence in tech: Panelist Spotlight...   \n",
       "3  \\nBlack excellence in tech: Panelist Spotlight...   \n",
       "4  \\nIf you’re interested in embarking on a caree...   \n",
       "\n",
       "                                               clean  \\\n",
       "0  black excellence tech panelist spotlight wilma...   \n",
       "1  black excellence tech panelist spotlight steph...   \n",
       "2  black excellence tech panelist spotlight james...   \n",
       "3  black excellence tech panelist spotlight jeani...   \n",
       "4  youre interested embarking career tech likely ...   \n",
       "\n",
       "                                             stemmed  \\\n",
       "0  black excel tech panelist spotlight wilmari de...   \n",
       "1  black excel tech panelist spotlight stephani j...   \n",
       "2  black excel tech panelist spotlight jame coope...   \n",
       "3  black excel tech panelist spotlight jeanic fre...   \n",
       "4  your interest embark career tech like taken lo...   \n",
       "\n",
       "                                          lemmatized  \n",
       "0  black excellence tech panelist spotlight wilma...  \n",
       "1  black excellence tech panelist spotlight steph...  \n",
       "2  black excellence tech panelist spotlight james...  \n",
       "3  black excellence tech panelist spotlight jeani...  \n",
       "4  youre interested embarking career tech likely ...  "
      ]
     },
     "execution_count": 48,
     "metadata": {},
     "output_type": "execute_result"
    }
   ],
   "source": [
    "#assign variable to our new prepped dataframe\n",
    "prep_codeup = prep_article_data(codeup_df, 'content', extra_words =[], exclude_words=[])\n",
    "\n",
    "#take a look\n",
    "prep_codeup.head(5)"
   ]
  },
  {
   "cell_type": "code",
   "execution_count": 49,
   "id": "3ef4fc26",
   "metadata": {},
   "outputs": [
    {
     "data": {
      "text/plain": [
       "title         Coding Bootcamp or Self-Learning? Which is Bes...\n",
       "original      \\nIf you’re interested in embarking on a caree...\n",
       "clean         youre interested embarking career tech likely ...\n",
       "stemmed       your interest embark career tech like taken lo...\n",
       "lemmatized    youre interested embarking career tech likely ...\n",
       "Name: 4, dtype: object"
      ]
     },
     "execution_count": 49,
     "metadata": {},
     "output_type": "execute_result"
    }
   ],
   "source": [
    "#take a look at one article\n",
    "prep_codeup.iloc[4]"
   ]
  },
  {
   "cell_type": "markdown",
   "id": "7a83bd77",
   "metadata": {},
   "source": [
    "Ask yourself:  \n",
    "  \n",
    "- If your corpus is 493KB, would you prefer to use stemmed or lemmatized text?\n",
    "    - lemmatize is slower, so smaller is ok to take longer.\n",
    "- If your corpus is 25MB, would you prefer to use stemmed or lemmatized text?\n",
    "    - stem because dataset is larger and stemming is faster\n",
    "- If your corpus is 200TB of text and you're charged by the megabyte for your hosted computational resources, would you prefer to use stemmed or lemmatized text?\n",
    "    - stemming because it is faster "
   ]
  },
  {
   "cell_type": "code",
   "execution_count": 44,
   "id": "b2ca9274",
   "metadata": {
    "scrolled": false
   },
   "outputs": [
    {
     "name": "stdout",
     "output_type": "stream",
     "text": [
      "Collecting wordcloud\n",
      "  Downloading wordcloud-1.8.2.2-cp39-cp39-macosx_10_9_x86_64.whl (160 kB)\n",
      "\u001b[2K     \u001b[90m━━━━━━━━━━━━━━━━━━━━━━━━━━━━━━━━━━━━━━━\u001b[0m \u001b[32m160.5/160.5 kB\u001b[0m \u001b[31m1.9 MB/s\u001b[0m eta \u001b[36m0:00:00\u001b[0ma \u001b[36m0:00:01\u001b[0m\n",
      "\u001b[?25hRequirement already satisfied: matplotlib in /usr/local/anaconda3/lib/python3.9/site-packages (from wordcloud) (3.5.2)\n",
      "Requirement already satisfied: numpy>=1.6.1 in /usr/local/anaconda3/lib/python3.9/site-packages (from wordcloud) (1.21.5)\n",
      "Requirement already satisfied: pillow in /usr/local/anaconda3/lib/python3.9/site-packages (from wordcloud) (9.2.0)\n",
      "Requirement already satisfied: python-dateutil>=2.7 in /usr/local/anaconda3/lib/python3.9/site-packages (from matplotlib->wordcloud) (2.8.2)\n",
      "Requirement already satisfied: packaging>=20.0 in /usr/local/anaconda3/lib/python3.9/site-packages (from matplotlib->wordcloud) (21.3)\n",
      "Requirement already satisfied: fonttools>=4.22.0 in /usr/local/anaconda3/lib/python3.9/site-packages (from matplotlib->wordcloud) (4.25.0)\n",
      "Requirement already satisfied: cycler>=0.10 in /usr/local/anaconda3/lib/python3.9/site-packages (from matplotlib->wordcloud) (0.11.0)\n",
      "Requirement already satisfied: pyparsing>=2.2.1 in /usr/local/anaconda3/lib/python3.9/site-packages (from matplotlib->wordcloud) (3.0.9)\n",
      "Requirement already satisfied: kiwisolver>=1.0.1 in /usr/local/anaconda3/lib/python3.9/site-packages (from matplotlib->wordcloud) (1.4.2)\n",
      "Requirement already satisfied: six>=1.5 in /usr/local/anaconda3/lib/python3.9/site-packages (from python-dateutil>=2.7->matplotlib->wordcloud) (1.16.0)\n",
      "Installing collected packages: wordcloud\n",
      "Successfully installed wordcloud-1.8.2.2\n"
     ]
    }
   ],
   "source": [
    "!pip install wordcloud"
   ]
  },
  {
   "cell_type": "code",
   "execution_count": null,
   "id": "540b182b",
   "metadata": {},
   "outputs": [],
   "source": []
  }
 ],
 "metadata": {
  "kernelspec": {
   "display_name": "Python 3 (ipykernel)",
   "language": "python",
   "name": "python3"
  },
  "language_info": {
   "codemirror_mode": {
    "name": "ipython",
    "version": 3
   },
   "file_extension": ".py",
   "mimetype": "text/x-python",
   "name": "python",
   "nbconvert_exporter": "python",
   "pygments_lexer": "ipython3",
   "version": "3.9.13"
  }
 },
 "nbformat": 4,
 "nbformat_minor": 5
}
